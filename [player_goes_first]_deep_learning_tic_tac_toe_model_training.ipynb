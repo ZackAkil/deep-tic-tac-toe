{
  "nbformat": 4,
  "nbformat_minor": 0,
  "metadata": {
    "colab": {
      "name": "[player goes first] deep learning tic-tac-toe model training.ipynb",
      "provenance": [],
      "collapsed_sections": [],
      "toc_visible": true,
      "authorship_tag": "ABX9TyMTo5CeFJxBVz8V3WYBH48a",
      "include_colab_link": true
    },
    "kernelspec": {
      "name": "python3",
      "display_name": "Python 3"
    },
    "accelerator": "GPU"
  },
  "cells": [
    {
      "cell_type": "markdown",
      "metadata": {
        "id": "view-in-github",
        "colab_type": "text"
      },
      "source": [
        "<a href=\"https://colab.research.google.com/github/ZackAkil/deep-tic-tac-toe/blob/master/%5Bplayer_goes_first%5D_deep_learning_tic_tac_toe_model_training.ipynb\" target=\"_parent\"><img src=\"https://colab.research.google.com/assets/colab-badge.svg\" alt=\"Open In Colab\"/></a>"
      ]
    },
    {
      "cell_type": "code",
      "metadata": {
        "id": "nKBz663XdQhj",
        "colab_type": "code",
        "colab": {}
      },
      "source": [
        "import numpy as np\n",
        "import matplotlib.pyplot as plt\n"
      ],
      "execution_count": 0,
      "outputs": []
    },
    {
      "cell_type": "code",
      "metadata": {
        "id": "kU3ye6JadXQU",
        "colab_type": "code",
        "cellView": "both",
        "colab": {}
      },
      "source": [
        "#@title\n",
        "# rewards\n",
        "WIN = 1\n",
        "LOSE = -2\n",
        "TIE = 0.2\n",
        "INVALID = -3\n",
        "\n",
        "\n",
        "class XandOs():\n",
        "  def __init__(self, log = False):\n",
        "    self.state = np.zeros([3,3], dtype=np.int16)\n",
        "    self.end = False\n",
        "    self.history = []\n",
        "    self.log = log\n",
        "\n",
        "  def make_move(self, pos, player=1):\n",
        "  \n",
        "    if self.state.flatten()[pos]:\n",
        "      # invalid move\n",
        "      if self.log:\n",
        "        print('player {0} INVALID move {1}'.format(player, pos))\n",
        "      return False\n",
        "    else:\n",
        "      # make move\n",
        "      if self.log:\n",
        "        print('player {0} making move {1}'.format(player, pos))\n",
        "      grid = self.state.flatten()\n",
        "      grid[pos] = player\n",
        "      self.state = np.reshape(grid, [3,3])\n",
        "      return True\n",
        "\n",
        "  def check_win(self, player=1):\n",
        "    bool_grid = self.state == player\n",
        "    return win(bool_grid)\n",
        "\n",
        "\n",
        "  def step(self, action):\n",
        "\n",
        "    self.history.append([self.state, action])\n",
        "    reward = 0\n",
        "    pos = action\n",
        "    valid_move = self.make_move(pos, player=1)\n",
        "\n",
        "    if not valid_move:\n",
        "      reward = INVALID\n",
        "      self.end = True\n",
        "\n",
        "    elif self.check_win(player=1):\n",
        "      if self.log:\n",
        "        print('player 1 win')\n",
        "      reward = WIN\n",
        "      self.end = True\n",
        "\n",
        "    elif self.game_full():\n",
        "      if self.log:\n",
        "        print('player 1 ended game')\n",
        "      self.end = True\n",
        "      reward = TIE\n",
        "\n",
        "    if self.end:  \n",
        "      return reward, self.state, self.end\n",
        "\n",
        "    # player 2 move\n",
        "    player_2_move = self.rand_agent_move(player=2)\n",
        "    valid_move = self.make_move(player_2_move, player=2)\n",
        "\n",
        "    if not valid_move:\n",
        "      reward = WIN\n",
        "      self.end = True\n",
        "\n",
        "    elif self.check_win(player=2):\n",
        "      if self.log:\n",
        "        print('player 2 win')\n",
        "      reward = LOSE\n",
        "      self.end = True\n",
        "\n",
        "    elif self.game_full():\n",
        "      if self.log:\n",
        "        print('player 2 ended game')\n",
        "      self.end = True\n",
        "      reward = TIE\n",
        "\n",
        "    return reward, self.state, self.end\n",
        "\n",
        "\n",
        "\n",
        "  def render(self):\n",
        "    render_game(self.state)\n",
        "\n",
        "  def game_full(self):\n",
        "    return (self.state==0).sum() == 0\n",
        "\n",
        "\n",
        "  def rand_agent_move(self, player = 2):\n",
        "\n",
        "    flat_state = self.state.flatten() == 0\n",
        "    empty_indexs, = np.where(flat_state)\n",
        "\n",
        "    for indx in empty_indexs:\n",
        "      grid = self.state.flatten() == player\n",
        "      grid[indx] = True\n",
        "      if win(np.reshape(grid,[3,3])):\n",
        "        if self.log:\n",
        "          print('found winning move ')\n",
        "        return indx\n",
        "    if len(empty_indexs):\n",
        "      return np.random.choice(empty_indexs)\n",
        "    else:\n",
        "      return 0\n",
        "\n",
        "def win(bool_grid):\n",
        "  # horizontal\n",
        "  for row in bool_grid:\n",
        "    if row.sum() == 3:\n",
        "      return True\n",
        "\n",
        "  # vertical\n",
        "  for row in bool_grid.T:\n",
        "    if row.sum() == 3:\n",
        "      return True\n",
        "\n",
        "  # diangonal 1\n",
        "  if np.reshape(bool_grid,[-1])[::4].sum() == 3:\n",
        "    return True\n",
        "\n",
        "  # diangonal 2\n",
        "  if np.reshape(bool_grid,[-1])[2:7:2].sum() == 3:\n",
        "    return True\n",
        "\n",
        "  return False\n",
        "\n",
        "def render_game(state):\n",
        "\n",
        "    # data = np.reshape(pred, [3,3])\n",
        "    fig, ax = plt.subplots()\n",
        "    im = ax.imshow(state/2, cmap=plt.get_cmap('cool'), interpolation='nearest',\n",
        "              vmin=0, vmax=1)\n",
        "    text_num = 0\n",
        "    for i in range(3):\n",
        "      for j in range(3):\n",
        "        ax.text(j, i, str(text_num))\n",
        "        text_num += 1\n",
        "\n",
        "      # Minor ticks\n",
        "    fig.colorbar(im)\n",
        "    plt.show()"
      ],
      "execution_count": 0,
      "outputs": []
    },
    {
      "cell_type": "code",
      "metadata": {
        "id": "P1KUiRucnHqD",
        "colab_type": "code",
        "colab": {}
      },
      "source": [
        "game = XandOs()"
      ],
      "execution_count": 0,
      "outputs": []
    },
    {
      "cell_type": "code",
      "metadata": {
        "id": "H9CbboUHnAz4",
        "colab_type": "code",
        "outputId": "438e72c6-0375-43d5-97ee-3380a34b30e1",
        "colab": {
          "base_uri": "https://localhost:8080/",
          "height": 320
        }
      },
      "source": [
        "print(game.step(1))\n",
        "game.render()"
      ],
      "execution_count": 0,
      "outputs": [
        {
          "output_type": "stream",
          "text": [
            "(0, array([[0, 1, 0],\n",
            "       [0, 0, 0],\n",
            "       [2, 0, 0]], dtype=int16), False)\n"
          ],
          "name": "stdout"
        },
        {
          "output_type": "display_data",
          "data": {
            "image/png": "[encoded data removed]",
            "text/plain": [
              "<Figure size 432x288 with 2 Axes>"
            ]
          },
          "metadata": {
            "tags": []
          }
        }
      ]
    },
    {
      "cell_type": "code",
      "metadata": {
        "id": "XcfHE9Ekj8i0",
        "colab_type": "code",
        "outputId": "259a5713-7260-4723-c43b-aa5ef3b5b0de",
        "colab": {
          "base_uri": "https://localhost:8080/",
          "height": 926
        }
      },
      "source": [
        "game = XandOs()\n",
        "\n",
        "while(not game.end):\n",
        "  move = np.random.choice(range(9))\n",
        "  print(game.step(move))\n",
        "  game.render()\n",
        "\n"
      ],
      "execution_count": 0,
      "outputs": [
        {
          "output_type": "stream",
          "text": [
            "(0, array([[0, 0, 0],\n",
            "       [1, 0, 0],\n",
            "       [0, 2, 0]], dtype=int16), False)\n"
          ],
          "name": "stdout"
        },
        {
          "output_type": "display_data",
          "data": {
            "image/png": "[encoded data removed]",
            "text/plain": [
              "<Figure size 432x288 with 2 Axes>"
            ]
          },
          "metadata": {
            "tags": []
          }
        },
        {
          "output_type": "stream",
          "text": [
            "(0, array([[0, 0, 1],\n",
            "       [1, 2, 0],\n",
            "       [0, 2, 0]], dtype=int16), False)\n"
          ],
          "name": "stdout"
        },
        {
          "output_type": "display_data",
          "data": {
            "image/png": "[encoded data removed]",
            "text/plain": [
              "<Figure size 432x288 with 2 Axes>"
            ]
          },
          "metadata": {
            "tags": []
          }
        },
        {
          "output_type": "stream",
          "text": [
            "(-3, array([[0, 0, 1],\n",
            "       [1, 2, 0],\n",
            "       [0, 2, 0]], dtype=int16), True)\n"
          ],
          "name": "stdout"
        },
        {
          "output_type": "display_data",
          "data": {
            "image/png": "[encoded data removed]",
            "text/plain": [
              "<Figure size 432x288 with 2 Axes>"
            ]
          },
          "metadata": {
            "tags": []
          }
        }
      ]
    },
    {
      "cell_type": "code",
      "metadata": {
        "id": "ZItV8JI04SqL",
        "colab_type": "code",
        "outputId": "464387a6-43d6-4798-d7f6-dde8b421fda0",
        "colab": {
          "base_uri": "https://localhost:8080/",
          "height": 34
        }
      },
      "source": [
        "len(game.history)"
      ],
      "execution_count": 0,
      "outputs": [
        {
          "output_type": "execute_result",
          "data": {
            "text/plain": [
              "3"
            ]
          },
          "metadata": {
            "tags": []
          },
          "execution_count": 6
        }
      ]
    },
    {
      "cell_type": "code",
      "metadata": {
        "id": "Ry3PE3K3o2iY",
        "colab_type": "code",
        "outputId": "15226134-5613-4429-e2c5-30beb197b05e",
        "colab": {
          "base_uri": "https://localhost:8080/",
          "height": 80
        }
      },
      "source": [
        "import keras\n",
        "from keras.datasets import mnist\n",
        "from keras.models import Sequential\n",
        "from keras.layers import Dense, Dropout, Flatten\n",
        "from keras.layers import Conv2D, MaxPooling2D, Conv2DTranspose\n",
        "from keras import backend as K"
      ],
      "execution_count": 0,
      "outputs": [
        {
          "output_type": "stream",
          "text": [
            "Using TensorFlow backend.\n"
          ],
          "name": "stderr"
        },
        {
          "output_type": "display_data",
          "data": {
            "text/html": [
              "<p style=\"color: red;\">\n",
              "The default version of TensorFlow in Colab will soon switch to TensorFlow 2.x.<br>\n",
              "We recommend you <a href=\"https://www.tensorflow.org/guide/migrate\" target=\"_blank\">upgrade</a> now \n",
              "or ensure your notebook will continue to use TensorFlow 1.x via the <code>%tensorflow_version 1.x</code> magic:\n",
              "<a href=\"https://colab.research.google.com/notebooks/tensorflow_version.ipynb\" target=\"_blank\">more info</a>.</p>\n"
            ],
            "text/plain": [
              "<IPython.core.display.HTML object>"
            ]
          },
          "metadata": {
            "tags": []
          }
        }
      ]
    },
    {
      "cell_type": "code",
      "metadata": {
        "id": "oB9NMGULt20B",
        "colab_type": "code",
        "colab": {}
      },
      "source": [
        "from collections import deque"
      ],
      "execution_count": 0,
      "outputs": []
    },
    {
      "cell_type": "code",
      "metadata": {
        "id": "hOF8pY1VcDw0",
        "colab_type": "code",
        "colab": {}
      },
      "source": [
        "class Agent():\n",
        "\n",
        "  def __init__(self):\n",
        "    self.model = self.create_model()\n",
        "\n",
        "  def create_model(self):\n",
        "    model = Sequential()\n",
        "    # model.add(Flatten(input_shape=[3,3,2]))\n",
        "    model.add(Conv2D(8, kernel_size=(1, 1),\n",
        "                 activation='relu',\n",
        "                 input_shape=[3,3,2],\n",
        "                 strides=(1,1), padding='same'))\n",
        "    model.add(Conv2D(8, (3, 3), activation='relu',padding='same'))\n",
        "    model.add(Flatten())\n",
        "    model.add(Dense(100, activation='relu'))\n",
        "    model.add(Dropout(0.1))\n",
        "    model.add(Dense(100, activation='relu'))\n",
        "    model.add(Dropout(0.1))\n",
        "    model.add(Dense(50, activation='relu'))\n",
        "    model.add(Dense(9, activation='sigmoid'))\n",
        "    model.compile(loss='binary_crossentropy', optimizer='adam')\n",
        "    return model\n",
        "\n",
        "  def show_heat_map(self, pred):\n",
        "    data = np.reshape(pred, [3,3])\n",
        "    fig, ax = plt.subplots()\n",
        "    im = ax.imshow(data, cmap=plt.get_cmap('hot'), interpolation='nearest',\n",
        "              vmin=0, vmax=1)\n",
        "    fig.colorbar(im)\n",
        "    plt.show()\n",
        "\n",
        "  def decide_move(self, env, show=True, only_valid=False):\n",
        "    model_input = np.zeros([1,3,3,2])\n",
        "    model_input[0,:,:,0] = env==1\n",
        "    model_input[0,:,:,1] = env==2\n",
        "    \n",
        "    pred = np.squeeze(self.model.predict(model_input))\n",
        "    # print(pred.shape, (env != 0).flatten().shape)\n",
        "    if only_valid:\n",
        "      pred[(env != 0).flatten()] = 0\n",
        "    \n",
        "    if show:\n",
        "      self.show_heat_map(pred)\n",
        "    return pred.argmax(), pred\n"
      ],
      "execution_count": 0,
      "outputs": []
    },
    {
      "cell_type": "markdown",
      "metadata": {
        "id": "m97oo1yaq8Fc",
        "colab_type": "text"
      },
      "source": [
        "# The game"
      ]
    },
    {
      "cell_type": "code",
      "metadata": {
        "id": "s8QvSz-4i0OZ",
        "colab_type": "code",
        "colab": {}
      },
      "source": [
        "from sklearn.preprocessing import normalize"
      ],
      "execution_count": 0,
      "outputs": []
    },
    {
      "cell_type": "code",
      "metadata": {
        "id": "zRoDqfUBjet5",
        "colab_type": "code",
        "colab": {}
      },
      "source": [
        "def render_all(things,vmin=0, vmax=2, cmap='cool', show_max=True):\n",
        "  display_all = np.zeros([3,3*(len(things))])\n",
        "  for i, thing in enumerate(things):\n",
        "    if show_max:\n",
        "      print('make move: ', thing.argmax())\n",
        "    step = 3*i\n",
        "    display_all[:,step:step+3] = np.reshape(thing, [3,3])\n",
        "  plt.imshow(display_all, vmin=vmin, vmax=vmax, cmap=cmap)\n",
        "  plt.show()\n"
      ],
      "execution_count": 0,
      "outputs": []
    },
    {
      "cell_type": "code",
      "metadata": {
        "id": "nfKcoz4Hn2Xx",
        "colab_type": "code",
        "outputId": "a9c1fa62-3aed-4fc0-f6a5-8a22fb034acd",
        "colab": {
          "base_uri": "https://localhost:8080/",
          "height": 595
        }
      },
      "source": [
        "game = XandOs()\n",
        "agent = Agent()\n",
        "game.render()"
      ],
      "execution_count": 0,
      "outputs": [
        {
          "output_type": "stream",
          "text": [
            "WARNING:tensorflow:From /usr/local/lib/python3.6/dist-packages/keras/backend/tensorflow_backend.py:66: The name tf.get_default_graph is deprecated. Please use tf.compat.v1.get_default_graph instead.\n",
            "\n",
            "WARNING:tensorflow:From /usr/local/lib/python3.6/dist-packages/keras/backend/tensorflow_backend.py:541: The name tf.placeholder is deprecated. Please use tf.compat.v1.placeholder instead.\n",
            "\n",
            "WARNING:tensorflow:From /usr/local/lib/python3.6/dist-packages/keras/backend/tensorflow_backend.py:4432: The name tf.random_uniform is deprecated. Please use tf.random.uniform instead.\n",
            "\n",
            "WARNING:tensorflow:From /usr/local/lib/python3.6/dist-packages/keras/backend/tensorflow_backend.py:148: The name tf.placeholder_with_default is deprecated. Please use tf.compat.v1.placeholder_with_default instead.\n",
            "\n",
            "WARNING:tensorflow:From /usr/local/lib/python3.6/dist-packages/keras/backend/tensorflow_backend.py:3733: calling dropout (from tensorflow.python.ops.nn_ops) with keep_prob is deprecated and will be removed in a future version.\n",
            "Instructions for updating:\n",
            "Please use `rate` instead of `keep_prob`. Rate should be set to `rate = 1 - keep_prob`.\n",
            "WARNING:tensorflow:From /usr/local/lib/python3.6/dist-packages/keras/optimizers.py:793: The name tf.train.Optimizer is deprecated. Please use tf.compat.v1.train.Optimizer instead.\n",
            "\n",
            "WARNING:tensorflow:From /usr/local/lib/python3.6/dist-packages/keras/backend/tensorflow_backend.py:3657: The name tf.log is deprecated. Please use tf.math.log instead.\n",
            "\n",
            "WARNING:tensorflow:From /usr/local/lib/python3.6/dist-packages/tensorflow_core/python/ops/nn_impl.py:183: where (from tensorflow.python.ops.array_ops) is deprecated and will be removed in a future version.\n",
            "Instructions for updating:\n",
            "Use tf.where in 2.0, which has the same broadcast rule as np.where\n"
          ],
          "name": "stdout"
        },
        {
          "output_type": "display_data",
          "data": {
            "image/png": "[encoded data removed]",
            "text/plain": [
              "<Figure size 432x288 with 2 Axes>"
            ]
          },
          "metadata": {
            "tags": []
          }
        }
      ]
    },
    {
      "cell_type": "code",
      "metadata": {
        "id": "q-FzFabMxZXw",
        "colab_type": "code",
        "outputId": "1f53d4ad-67f9-4840-ab94-1879dff9f4b2",
        "colab": {
          "base_uri": "https://localhost:8080/",
          "height": 289
        }
      },
      "source": [
        "!wget https://github.com/ZackAkil/deep-tic-tac-toe/raw/master/python%20model%20weights/winer_weights.keras \n"
      ],
      "execution_count": 0,
      "outputs": [
        {
          "output_type": "stream",
          "text": [
            "--2020-02-03 23:48:48--  https://github.com/ZackAkil/deep-tic-tac-toe/raw/master/python%20model%20weights/winer_weights.keras\n",
            "Resolving github.com (github.com)... 192.30.253.113\n",
            "Connecting to github.com (github.com)|192.30.253.113|:443... connected.\n",
            "HTTP request sent, awaiting response... 302 Found\n",
            "Location: https://raw.githubusercontent.com/ZackAkil/deep-tic-tac-toe/master/python%20model%20weights/winer_weights.keras [following]\n",
            "--2020-02-03 23:48:48--  https://raw.githubusercontent.com/ZackAkil/deep-tic-tac-toe/master/python%20model%20weights/winer_weights.keras\n",
            "Resolving raw.githubusercontent.com (raw.githubusercontent.com)... 151.101.0.133, 151.101.64.133, 151.101.128.133, ...\n",
            "Connecting to raw.githubusercontent.com (raw.githubusercontent.com)|151.101.0.133|:443... connected.\n",
            "HTTP request sent, awaiting response... 200 OK\n",
            "Length: 39168 (38K) [application/octet-stream]\n",
            "Saving to: ‘winer_weights.keras.1’\n",
            "\n",
            "\rwiner_weights.keras   0%[                    ]       0  --.-KB/s               \rwiner_weights.keras 100%[===================>]  38.25K  --.-KB/s    in 0.01s   \n",
            "\n",
            "2020-02-03 23:48:48 (3.16 MB/s) - ‘winer_weights.keras.1’ saved [39168/39168]\n",
            "\n"
          ],
          "name": "stdout"
        }
      ]
    },
    {
      "cell_type": "code",
      "metadata": {
        "id": "kDnWC4ryte6-",
        "colab_type": "code",
        "outputId": "6d9a0831-51d2-496b-9195-cafde5bdd41c",
        "colab": {
          "base_uri": "https://localhost:8080/",
          "height": 307
        }
      },
      "source": [
        "agent.model.load_weights('winer_weights.keras')"
      ],
      "execution_count": 0,
      "outputs": [
        {
          "output_type": "error",
          "ename": "ValueError",
          "evalue": "ignored",
          "traceback": [
            "\u001b[0;31m---------------------------------------------------------------------------\u001b[0m",
            "\u001b[0;31mValueError\u001b[0m                                Traceback (most recent call last)",
            "\u001b[0;32m<ipython-input-15-5d46dedabfe5>\u001b[0m in \u001b[0;36m<module>\u001b[0;34m()\u001b[0m\n\u001b[0;32m----> 1\u001b[0;31m \u001b[0magent\u001b[0m\u001b[0;34m.\u001b[0m\u001b[0mmodel\u001b[0m\u001b[0;34m.\u001b[0m\u001b[0mload_weights\u001b[0m\u001b[0;34m(\u001b[0m\u001b[0;34m'winer_weights.keras'\u001b[0m\u001b[0;34m)\u001b[0m\u001b[0;34m\u001b[0m\u001b[0;34m\u001b[0m\u001b[0m\n\u001b[0m",
            "\u001b[0;32m/usr/local/lib/python3.6/dist-packages/keras/engine/saving.py\u001b[0m in \u001b[0;36mload_wrapper\u001b[0;34m(*args, **kwargs)\u001b[0m\n\u001b[1;32m    456\u001b[0m                 \u001b[0mos\u001b[0m\u001b[0;34m.\u001b[0m\u001b[0mremove\u001b[0m\u001b[0;34m(\u001b[0m\u001b[0mtmp_filepath\u001b[0m\u001b[0;34m)\u001b[0m\u001b[0;34m\u001b[0m\u001b[0;34m\u001b[0m\u001b[0m\n\u001b[1;32m    457\u001b[0m             \u001b[0;32mreturn\u001b[0m \u001b[0mres\u001b[0m\u001b[0;34m\u001b[0m\u001b[0;34m\u001b[0m\u001b[0m\n\u001b[0;32m--> 458\u001b[0;31m         \u001b[0;32mreturn\u001b[0m \u001b[0mload_function\u001b[0m\u001b[0;34m(\u001b[0m\u001b[0;34m*\u001b[0m\u001b[0margs\u001b[0m\u001b[0;34m,\u001b[0m \u001b[0;34m**\u001b[0m\u001b[0mkwargs\u001b[0m\u001b[0;34m)\u001b[0m\u001b[0;34m\u001b[0m\u001b[0;34m\u001b[0m\u001b[0m\n\u001b[0m\u001b[1;32m    459\u001b[0m \u001b[0;34m\u001b[0m\u001b[0m\n\u001b[1;32m    460\u001b[0m     \u001b[0;32mreturn\u001b[0m \u001b[0mload_wrapper\u001b[0m\u001b[0;34m\u001b[0m\u001b[0;34m\u001b[0m\u001b[0m\n",
            "\u001b[0;32m/usr/local/lib/python3.6/dist-packages/keras/engine/network.py\u001b[0m in \u001b[0;36mload_weights\u001b[0;34m(self, filepath, by_name, skip_mismatch, reshape)\u001b[0m\n\u001b[1;32m   1215\u001b[0m             \u001b[0;32melse\u001b[0m\u001b[0;34m:\u001b[0m\u001b[0;34m\u001b[0m\u001b[0;34m\u001b[0m\u001b[0m\n\u001b[1;32m   1216\u001b[0m                 saving.load_weights_from_hdf5_group(\n\u001b[0;32m-> 1217\u001b[0;31m                     f, self.layers, reshape=reshape)\n\u001b[0m\u001b[1;32m   1218\u001b[0m             \u001b[0;32mif\u001b[0m \u001b[0mhasattr\u001b[0m\u001b[0;34m(\u001b[0m\u001b[0mf\u001b[0m\u001b[0;34m,\u001b[0m \u001b[0;34m'close'\u001b[0m\u001b[0;34m)\u001b[0m\u001b[0;34m:\u001b[0m\u001b[0;34m\u001b[0m\u001b[0;34m\u001b[0m\u001b[0m\n\u001b[1;32m   1219\u001b[0m                 \u001b[0mf\u001b[0m\u001b[0;34m.\u001b[0m\u001b[0mclose\u001b[0m\u001b[0;34m(\u001b[0m\u001b[0;34m)\u001b[0m\u001b[0;34m\u001b[0m\u001b[0;34m\u001b[0m\u001b[0m\n",
            "\u001b[0;32m/usr/local/lib/python3.6/dist-packages/keras/engine/saving.py\u001b[0m in \u001b[0;36mload_weights_from_hdf5_group\u001b[0;34m(f, layers, reshape)\u001b[0m\n\u001b[1;32m   1169\u001b[0m                          \u001b[0;34m'containing '\u001b[0m \u001b[0;34m+\u001b[0m \u001b[0mstr\u001b[0m\u001b[0;34m(\u001b[0m\u001b[0mlen\u001b[0m\u001b[0;34m(\u001b[0m\u001b[0mlayer_names\u001b[0m\u001b[0;34m)\u001b[0m\u001b[0;34m)\u001b[0m \u001b[0;34m+\u001b[0m\u001b[0;34m\u001b[0m\u001b[0;34m\u001b[0m\u001b[0m\n\u001b[1;32m   1170\u001b[0m                          \u001b[0;34m' layers into a model with '\u001b[0m \u001b[0;34m+\u001b[0m\u001b[0;34m\u001b[0m\u001b[0;34m\u001b[0m\u001b[0m\n\u001b[0;32m-> 1171\u001b[0;31m                          str(len(filtered_layers)) + ' layers.')\n\u001b[0m\u001b[1;32m   1172\u001b[0m \u001b[0;34m\u001b[0m\u001b[0m\n\u001b[1;32m   1173\u001b[0m     \u001b[0;31m# We batch weight value assignments in a single backend call\u001b[0m\u001b[0;34m\u001b[0m\u001b[0;34m\u001b[0m\u001b[0;34m\u001b[0m\u001b[0m\n",
            "\u001b[0;31mValueError\u001b[0m: You are trying to load a weight file containing 4 layers into a model with 5 layers."
          ]
        }
      ]
    },
    {
      "cell_type": "code",
      "metadata": {
        "id": "eE7Un1NM25KK",
        "colab_type": "code",
        "outputId": "2e3b6ace-de9f-4cb3-ff80-ef3c257d988d",
        "colab": {
          "base_uri": "https://localhost:8080/",
          "height": 459
        }
      },
      "source": [
        "agent.model.summary()"
      ],
      "execution_count": 0,
      "outputs": [
        {
          "output_type": "stream",
          "text": [
            "Model: \"sequential_1\"\n",
            "_________________________________________________________________\n",
            "Layer (type)                 Output Shape              Param #   \n",
            "=================================================================\n",
            "conv2d_1 (Conv2D)            (None, 3, 3, 8)           24        \n",
            "_________________________________________________________________\n",
            "conv2d_2 (Conv2D)            (None, 3, 3, 8)           584       \n",
            "_________________________________________________________________\n",
            "flatten_1 (Flatten)          (None, 72)                0         \n",
            "_________________________________________________________________\n",
            "dense_1 (Dense)              (None, 100)               7300      \n",
            "_________________________________________________________________\n",
            "dropout_1 (Dropout)          (None, 100)               0         \n",
            "_________________________________________________________________\n",
            "dense_2 (Dense)              (None, 100)               10100     \n",
            "_________________________________________________________________\n",
            "dropout_2 (Dropout)          (None, 100)               0         \n",
            "_________________________________________________________________\n",
            "dense_3 (Dense)              (None, 50)                5050      \n",
            "_________________________________________________________________\n",
            "dense_4 (Dense)              (None, 9)                 459       \n",
            "=================================================================\n",
            "Total params: 23,517\n",
            "Trainable params: 23,517\n",
            "Non-trainable params: 0\n",
            "_________________________________________________________________\n"
          ],
          "name": "stdout"
        }
      ]
    },
    {
      "cell_type": "code",
      "metadata": {
        "id": "UnU5iMlkcgty",
        "colab_type": "code",
        "outputId": "1b329b92-5256-46c1-bc28-15ad464bd69c",
        "colab": {
          "base_uri": "https://localhost:8080/",
          "height": 493
        }
      },
      "source": [
        "move, pred = agent.decide_move(game.state , only_valid=True)"
      ],
      "execution_count": 0,
      "outputs": [
        {
          "output_type": "stream",
          "text": [
            "WARNING:tensorflow:From /usr/local/lib/python3.6/dist-packages/keras/backend/tensorflow_backend.py:3005: The name tf.Session is deprecated. Please use tf.compat.v1.Session instead.\n",
            "\n",
            "WARNING:tensorflow:From /usr/local/lib/python3.6/dist-packages/keras/backend/tensorflow_backend.py:190: The name tf.get_default_session is deprecated. Please use tf.compat.v1.get_default_session instead.\n",
            "\n",
            "WARNING:tensorflow:From /usr/local/lib/python3.6/dist-packages/keras/backend/tensorflow_backend.py:197: The name tf.ConfigProto is deprecated. Please use tf.compat.v1.ConfigProto instead.\n",
            "\n",
            "WARNING:tensorflow:From /usr/local/lib/python3.6/dist-packages/keras/backend/tensorflow_backend.py:207: The name tf.global_variables is deprecated. Please use tf.compat.v1.global_variables instead.\n",
            "\n",
            "WARNING:tensorflow:From /usr/local/lib/python3.6/dist-packages/keras/backend/tensorflow_backend.py:216: The name tf.is_variable_initialized is deprecated. Please use tf.compat.v1.is_variable_initialized instead.\n",
            "\n",
            "WARNING:tensorflow:From /usr/local/lib/python3.6/dist-packages/keras/backend/tensorflow_backend.py:223: The name tf.variables_initializer is deprecated. Please use tf.compat.v1.variables_initializer instead.\n",
            "\n"
          ],
          "name": "stdout"
        },
        {
          "output_type": "display_data",
          "data": {
            "image/png": "[encoded data removed]",
            "text/plain": [
              "<Figure size 432x288 with 2 Axes>"
            ]
          },
          "metadata": {
            "tags": []
          }
        }
      ]
    },
    {
      "cell_type": "code",
      "metadata": {
        "id": "wc18BX5C_sAd",
        "colab_type": "code",
        "colab": {}
      },
      "source": [
        "from copy import deepcopy\n",
        "\n",
        "def apply_rewards(reward, predictions, decay = 0.5):\n",
        "  # copy and reverse (more reward applied to latest moves)\n",
        "  output = deepcopy(predictions)[::-1]\n",
        "  applied_reward = reward\n",
        "  for pred, move in output:\n",
        "    move_index =  np.unravel_index(move, pred.shape)\n",
        "    pred[ move_index ] = np.clip(pred[ move_index ] + applied_reward, 0, 1)\n",
        "    applied_reward *= decay\n",
        "  # un-reverse \n",
        "  return [o[0] for o in output[::-1]]"
      ],
      "execution_count": 0,
      "outputs": []
    },
    {
      "cell_type": "code",
      "metadata": {
        "id": "L5SuTyfwDbbA",
        "colab_type": "code",
        "colab": {}
      },
      "source": [
        "def get_states(memory):\n",
        "  return [m[0] for m in memory]\n",
        "\n",
        "def get_new_qs(memory):\n",
        "  return [m[1] for m in memory]\n",
        "\n",
        "def render_memory(memory):\n",
        "  states = get_states(memory)\n",
        "  updated = get_new_qs(memory)\n",
        "  current = [m[2][0] for m in memory]\n",
        "  print('states')\n",
        "  render_all(states)\n",
        "  print('current qs')\n",
        "  render_all(current)\n",
        "  print('upated qs')\n",
        "  render_all(updated)\n"
      ],
      "execution_count": 0,
      "outputs": []
    },
    {
      "cell_type": "code",
      "metadata": {
        "id": "6S8fhzd2Ei1O",
        "colab_type": "code",
        "colab": {}
      },
      "source": [
        "def agent_perf(agent, n= 100,lose_score = LOSE, show_lose=False):\n",
        "  game_scores = []\n",
        "  for i in range(n):\n",
        "    # play game\n",
        "    game = XandOs()\n",
        "    while not game.end:\n",
        "      move, pred = agent.decide_move(game.state, False)\n",
        "      predictions.append(pred)\n",
        "      _reward, _state, _end = game.step(move)\n",
        "    if show_lose:\n",
        "      if(_reward == lose_score):\n",
        "        render_all(np.array([h[0] for h in game.history] ) )\n",
        "    game_scores.append(_reward)\n",
        "  return np.mean(game_scores), game_scores"
      ],
      "execution_count": 0,
      "outputs": []
    },
    {
      "cell_type": "code",
      "metadata": {
        "id": "g6sxi8Qkz1AI",
        "colab_type": "code",
        "colab": {}
      },
      "source": [
        "memory = []\n",
        "EPSILON = 0.01\n",
        "\n",
        "for i in range(1_000):\n",
        "\n",
        "  # print('NEW GAME')\n",
        "  game = XandOs()\n",
        "  predictions = []\n",
        "  # randomly who starts\n",
        "  if np.random.random() > 0.5:\n",
        "    game.make_move(game.rand_agent_move(), player=2) \n",
        "    # print('player 2 first')  \n",
        "  \n",
        "  while not game.end:\n",
        "    # game.render()\n",
        "    move, pred = agent.decide_move(game.state, False, only_valid=True)\n",
        "    if np.random.random() < EPSILON :\n",
        "      move = game.rand_agent_move(player = 1)\n",
        "    predictions.append([pred, move])\n",
        "    _reward, _state, _end = game.step(move)\n",
        "  # print(_reward)\n",
        "\n",
        "  if _reward == INVALID:\n",
        "    # invalid move reward\n",
        "    # strongly punish last move\n",
        "    updated_q = apply_rewards(_reward, predictions, decay=0)\n",
        "  else:\n",
        "    # valid move reward\n",
        "    # normally reward previous moves\n",
        "    updated_q = apply_rewards(_reward, predictions, decay=0.9)\n",
        "\n",
        "  states = [h[0] for h in game.history]\n",
        "  for j in range(len(updated_q)):\n",
        "    memory.append( [states[j], updated_q[j], predictions[j]])\n"
      ],
      "execution_count": 0,
      "outputs": []
    },
    {
      "cell_type": "code",
      "metadata": {
        "id": "kk-WI3b-ELhU",
        "colab_type": "code",
        "outputId": "2e0a1cca-7cec-4920-ab6e-62e3c8f4d6d0",
        "colab": {
          "base_uri": "https://localhost:8080/",
          "height": 770
        }
      },
      "source": [
        "render_memory(memory[-10:])"
      ],
      "execution_count": 0,
      "outputs": [
        {
          "output_type": "stream",
          "text": [
            "states\n",
            "make move:  1\n",
            "make move:  1\n",
            "make move:  1\n",
            "make move:  0\n",
            "make move:  0\n",
            "make move:  0\n",
            "make move:  5\n",
            "make move:  5\n",
            "make move:  5\n",
            "make move:  1\n"
          ],
          "name": "stdout"
        },
        {
          "output_type": "display_data",
          "data": {
            "image/png": "[encoded data removed]",
            "text/plain": [
              "<Figure size 432x288 with 1 Axes>"
            ]
          },
          "metadata": {
            "tags": []
          }
        },
        {
          "output_type": "stream",
          "text": [
            "current qs\n",
            "make move:  6\n",
            "make move:  3\n",
            "make move:  4\n",
            "make move:  2\n",
            "make move:  3\n",
            "make move:  7\n",
            "make move:  2\n",
            "make move:  4\n",
            "make move:  8\n",
            "make move:  0\n"
          ],
          "name": "stdout"
        },
        {
          "output_type": "display_data",
          "data": {
            "image/png": "[encoded data removed]",
            "text/plain": [
              "<Figure size 432x288 with 1 Axes>"
            ]
          },
          "metadata": {
            "tags": []
          }
        },
        {
          "output_type": "stream",
          "text": [
            "upated qs\n",
            "make move:  6\n",
            "make move:  3\n",
            "make move:  4\n",
            "make move:  2\n",
            "make move:  3\n",
            "make move:  7\n",
            "make move:  2\n",
            "make move:  4\n",
            "make move:  8\n",
            "make move:  0\n"
          ],
          "name": "stdout"
        },
        {
          "output_type": "display_data",
          "data": {
            "image/png": "[encoded data removed]",
            "text/plain": [
              "<Figure size 432x288 with 1 Axes>"
            ]
          },
          "metadata": {
            "tags": []
          }
        }
      ]
    },
    {
      "cell_type": "code",
      "metadata": {
        "id": "6cgNw84GEdPf",
        "colab_type": "code",
        "outputId": "939c687d-ee7c-44a3-ce46-1d7324382113",
        "colab": {
          "base_uri": "https://localhost:8080/",
          "height": 34
        }
      },
      "source": [
        "moves = [p[2][0] for p in memory]\n",
        "moves_np = np.squeeze(np.array(moves).sum(axis=1))\n",
        "moves_np.shape"
      ],
      "execution_count": 0,
      "outputs": [
        {
          "output_type": "execute_result",
          "data": {
            "text/plain": [
              "(3266,)"
            ]
          },
          "metadata": {
            "tags": []
          },
          "execution_count": 399
        }
      ]
    },
    {
      "cell_type": "code",
      "metadata": {
        "id": "cFYEAUPBGREe",
        "colab_type": "code",
        "outputId": "123e6745-1fbf-4b40-f477-6bf762d570f5",
        "colab": {
          "base_uri": "https://localhost:8080/",
          "height": 34
        }
      },
      "source": [
        "_X = np.array(get_states(memory))\n",
        "X = np.zeros([*_X.shape,2])\n",
        "X[:,:,:,0] = (_X == 1)\n",
        "X[:,:,:,1] = (_X == 2)\n",
        "y = np.squeeze(np.array(get_new_qs(memory)))\n",
        "\n",
        "y_sum = y.sum(axis=1)\n",
        "\n",
        "pos = (y_sum > moves_np)\n",
        "\n",
        "positive_rewards = pos.sum()\n",
        "negative_rewards = (~pos).sum()\n",
        "print('{} positive change, {} negative change'.format(positive_rewards ,negative_rewards))\n",
        "updated_moves = y.argmax(axis=1)\n",
        "updated_moves\n",
        "\n",
        "moves = [p[2][1] for p in memory]\n",
        "mask = (moves_np != updated_moves)\n",
        "\n",
        "X = X[mask]\n",
        "y = y[mask]\n",
        "\n"
      ],
      "execution_count": 0,
      "outputs": [
        {
          "output_type": "stream",
          "text": [
            "2834 positive change, 432 negative change\n"
          ],
          "name": "stdout"
        }
      ]
    },
    {
      "cell_type": "code",
      "metadata": {
        "id": "e4Qr4yBla44P",
        "colab_type": "code",
        "outputId": "71276871-277f-42a3-b47e-a70b0cad5cbb",
        "colab": {
          "base_uri": "https://localhost:8080/",
          "height": 51
        }
      },
      "source": [
        "moves_np"
      ],
      "execution_count": 0,
      "outputs": [
        {
          "output_type": "execute_result",
          "data": {
            "text/plain": [
              "array([4.716607 , 1.8522296, 2.5783396, ..., 3.4604878, 2.5777278,\n",
              "       1.6078216], dtype=float32)"
            ]
          },
          "metadata": {
            "tags": []
          },
          "execution_count": 401
        }
      ]
    },
    {
      "cell_type": "code",
      "metadata": {
        "id": "lFMmMswGa09R",
        "colab_type": "code",
        "outputId": "1ec08d93-3b7c-4716-eacb-9f594aac16b5",
        "colab": {
          "base_uri": "https://localhost:8080/",
          "height": 34
        }
      },
      "source": [
        "moves_np != updated_moves"
      ],
      "execution_count": 0,
      "outputs": [
        {
          "output_type": "execute_result",
          "data": {
            "text/plain": [
              "array([ True,  True,  True, ...,  True,  True,  True])"
            ]
          },
          "metadata": {
            "tags": []
          },
          "execution_count": 402
        }
      ]
    },
    {
      "cell_type": "code",
      "metadata": {
        "id": "Q822Gf4hTJM1",
        "colab_type": "code",
        "outputId": "d9f48ae5-17bf-4a52-86fb-8c3913c14837",
        "colab": {
          "base_uri": "https://localhost:8080/",
          "height": 34
        }
      },
      "source": [
        "pos_weight =  negative_rewards/len(y)\n",
        "neg_weight =  positive_rewards/len(y)\n",
        "\n",
        "weights = np.zeros(len(y))\n",
        "weights[pos] = pos_weight\n",
        "weights[~pos] = neg_weight\n",
        "pos_weight,neg_weight\n",
        "\n"
      ],
      "execution_count": 0,
      "outputs": [
        {
          "output_type": "execute_result",
          "data": {
            "text/plain": [
              "(0.13227189222290264, 0.8677281077770974)"
            ]
          },
          "metadata": {
            "tags": []
          },
          "execution_count": 403
        }
      ]
    },
    {
      "cell_type": "code",
      "metadata": {
        "id": "3iVK6U0aanJO",
        "colab_type": "code",
        "outputId": "bb666632-b20d-49ee-c89f-66a52b5ad831",
        "colab": {
          "base_uri": "https://localhost:8080/",
          "height": 34
        }
      },
      "source": [
        "mask.sum()"
      ],
      "execution_count": 0,
      "outputs": [
        {
          "output_type": "execute_result",
          "data": {
            "text/plain": [
              "3266"
            ]
          },
          "metadata": {
            "tags": []
          },
          "execution_count": 404
        }
      ]
    },
    {
      "cell_type": "code",
      "metadata": {
        "id": "TggbFTPFGtKp",
        "colab_type": "code",
        "outputId": "15d6a924-0d7e-4aaa-8609-67f6db295fe3",
        "colab": {
          "base_uri": "https://localhost:8080/",
          "height": 34
        }
      },
      "source": [
        "X.shape, y.shape"
      ],
      "execution_count": 0,
      "outputs": [
        {
          "output_type": "execute_result",
          "data": {
            "text/plain": [
              "((3266, 3, 3, 2), (3266, 9))"
            ]
          },
          "metadata": {
            "tags": []
          },
          "execution_count": 405
        }
      ]
    },
    {
      "cell_type": "code",
      "metadata": {
        "id": "Jy8o3j_GKi0p",
        "colab_type": "code",
        "colab": {}
      },
      "source": [
        "# mean, scores = agent_perf(agent,n=1000)\n",
        "# mean"
      ],
      "execution_count": 0,
      "outputs": []
    },
    {
      "cell_type": "code",
      "metadata": {
        "id": "O4dfe2vsG3J2",
        "colab_type": "code",
        "outputId": "a1c56496-4259-491f-fcd3-dfa21346ea94",
        "colab": {
          "base_uri": "https://localhost:8080/",
          "height": 1000
        }
      },
      "source": [
        "\n",
        "hist = agent.model.fit(X, y, epochs=150, verbose=1, batch_size=124) # , sample_weight=weights)"
      ],
      "execution_count": 0,
      "outputs": [
        {
          "output_type": "stream",
          "text": [
            "Epoch 1/150\n",
            "3266/3266 [==============================] - 0s 71us/step - loss: 0.3687\n",
            "Epoch 2/150\n",
            "3266/3266 [==============================] - 0s 46us/step - loss: 0.3676\n",
            "Epoch 3/150\n",
            "3266/3266 [==============================] - 0s 48us/step - loss: 0.3668\n",
            "Epoch 4/150\n",
            "3266/3266 [==============================] - 0s 42us/step - loss: 0.3663\n",
            "Epoch 5/150\n",
            "3266/3266 [==============================] - 0s 45us/step - loss: 0.3661\n",
            "Epoch 6/150\n",
            "3266/3266 [==============================] - 0s 46us/step - loss: 0.3662\n",
            "Epoch 7/150\n",
            "3266/3266 [==============================] - 0s 45us/step - loss: 0.3656\n",
            "Epoch 8/150\n",
            "3266/3266 [==============================] - 0s 44us/step - loss: 0.3659\n",
            "Epoch 9/150\n",
            "3266/3266 [==============================] - 0s 42us/step - loss: 0.3659\n",
            "Epoch 10/150\n",
            "3266/3266 [==============================] - 0s 45us/step - loss: 0.3656\n",
            "Epoch 11/150\n",
            "3266/3266 [==============================] - 0s 44us/step - loss: 0.3656\n",
            "Epoch 12/150\n",
            "3266/3266 [==============================] - 0s 44us/step - loss: 0.3656\n",
            "Epoch 13/150\n",
            "3266/3266 [==============================] - 0s 47us/step - loss: 0.3655\n",
            "Epoch 14/150\n",
            "3266/3266 [==============================] - 0s 44us/step - loss: 0.3653\n",
            "Epoch 15/150\n",
            "3266/3266 [==============================] - 0s 45us/step - loss: 0.3652\n",
            "Epoch 16/150\n",
            "3266/3266 [==============================] - 0s 43us/step - loss: 0.3653\n",
            "Epoch 17/150\n",
            "3266/3266 [==============================] - 0s 45us/step - loss: 0.3653\n",
            "Epoch 18/150\n",
            "3266/3266 [==============================] - 0s 44us/step - loss: 0.3651\n",
            "Epoch 19/150\n",
            "3266/3266 [==============================] - 0s 44us/step - loss: 0.3652\n",
            "Epoch 20/150\n",
            "3266/3266 [==============================] - 0s 44us/step - loss: 0.3652\n",
            "Epoch 21/150\n",
            "3266/3266 [==============================] - 0s 44us/step - loss: 0.3652\n",
            "Epoch 22/150\n",
            "3266/3266 [==============================] - 0s 43us/step - loss: 0.3652\n",
            "Epoch 23/150\n",
            "3266/3266 [==============================] - 0s 44us/step - loss: 0.3652\n",
            "Epoch 24/150\n",
            "3266/3266 [==============================] - 0s 48us/step - loss: 0.3653\n",
            "Epoch 25/150\n",
            "3266/3266 [==============================] - 0s 45us/step - loss: 0.3653\n",
            "Epoch 26/150\n",
            "3266/3266 [==============================] - 0s 43us/step - loss: 0.3653\n",
            "Epoch 27/150\n",
            "3266/3266 [==============================] - 0s 44us/step - loss: 0.3651\n",
            "Epoch 28/150\n",
            "3266/3266 [==============================] - 0s 40us/step - loss: 0.3652\n",
            "Epoch 29/150\n",
            "3266/3266 [==============================] - 0s 40us/step - loss: 0.3650\n",
            "Epoch 30/150\n",
            "3266/3266 [==============================] - 0s 43us/step - loss: 0.3647\n",
            "Epoch 31/150\n",
            "3266/3266 [==============================] - 0s 48us/step - loss: 0.3650\n",
            "Epoch 32/150\n",
            "3266/3266 [==============================] - 0s 42us/step - loss: 0.3653\n",
            "Epoch 33/150\n",
            "3266/3266 [==============================] - 0s 38us/step - loss: 0.3653\n",
            "Epoch 34/150\n",
            "3266/3266 [==============================] - 0s 41us/step - loss: 0.3647\n",
            "Epoch 35/150\n",
            "3266/3266 [==============================] - 0s 40us/step - loss: 0.3652\n",
            "Epoch 36/150\n",
            "3266/3266 [==============================] - 0s 39us/step - loss: 0.3650\n",
            "Epoch 37/150\n",
            "3266/3266 [==============================] - 0s 39us/step - loss: 0.3652\n",
            "Epoch 38/150\n",
            "3266/3266 [==============================] - 0s 43us/step - loss: 0.3652\n",
            "Epoch 39/150\n",
            "3266/3266 [==============================] - 0s 44us/step - loss: 0.3651\n",
            "Epoch 40/150\n",
            "3266/3266 [==============================] - 0s 41us/step - loss: 0.3650\n",
            "Epoch 41/150\n",
            "3266/3266 [==============================] - 0s 38us/step - loss: 0.3648\n",
            "Epoch 42/150\n",
            "3266/3266 [==============================] - 0s 40us/step - loss: 0.3654\n",
            "Epoch 43/150\n",
            "3266/3266 [==============================] - 0s 42us/step - loss: 0.3656\n",
            "Epoch 44/150\n",
            "3266/3266 [==============================] - 0s 41us/step - loss: 0.3651\n",
            "Epoch 45/150\n",
            "3266/3266 [==============================] - 0s 41us/step - loss: 0.3651\n",
            "Epoch 46/150\n",
            "3266/3266 [==============================] - 0s 46us/step - loss: 0.3649\n",
            "Epoch 47/150\n",
            "3266/3266 [==============================] - 0s 40us/step - loss: 0.3649\n",
            "Epoch 48/150\n",
            "3266/3266 [==============================] - 0s 40us/step - loss: 0.3653\n",
            "Epoch 49/150\n",
            "3266/3266 [==============================] - 0s 40us/step - loss: 0.3648\n",
            "Epoch 50/150\n",
            "3266/3266 [==============================] - 0s 42us/step - loss: 0.3649\n",
            "Epoch 51/150\n",
            "3266/3266 [==============================] - 0s 40us/step - loss: 0.3648\n",
            "Epoch 52/150\n",
            "3266/3266 [==============================] - 0s 45us/step - loss: 0.3650\n",
            "Epoch 53/150\n",
            "3266/3266 [==============================] - 0s 45us/step - loss: 0.3651\n",
            "Epoch 54/150\n",
            "3266/3266 [==============================] - 0s 42us/step - loss: 0.3649\n",
            "Epoch 55/150\n",
            "3266/3266 [==============================] - 0s 41us/step - loss: 0.3651\n",
            "Epoch 56/150\n",
            "3266/3266 [==============================] - 0s 40us/step - loss: 0.3652\n",
            "Epoch 57/150\n",
            "3266/3266 [==============================] - 0s 39us/step - loss: 0.3651\n",
            "Epoch 58/150\n",
            "3266/3266 [==============================] - 0s 41us/step - loss: 0.3649\n",
            "Epoch 59/150\n",
            "3266/3266 [==============================] - 0s 43us/step - loss: 0.3649\n",
            "Epoch 60/150\n",
            "3266/3266 [==============================] - 0s 41us/step - loss: 0.3648\n",
            "Epoch 61/150\n",
            "3266/3266 [==============================] - 0s 47us/step - loss: 0.3650\n",
            "Epoch 62/150\n",
            "3266/3266 [==============================] - 0s 42us/step - loss: 0.3649\n",
            "Epoch 63/150\n",
            "3266/3266 [==============================] - 0s 39us/step - loss: 0.3649\n",
            "Epoch 64/150\n",
            "3266/3266 [==============================] - 0s 39us/step - loss: 0.3650\n",
            "Epoch 65/150\n",
            "3266/3266 [==============================] - 0s 42us/step - loss: 0.3650\n",
            "Epoch 66/150\n",
            "3266/3266 [==============================] - 0s 41us/step - loss: 0.3651\n",
            "Epoch 67/150\n",
            "3266/3266 [==============================] - 0s 42us/step - loss: 0.3648\n",
            "Epoch 68/150\n",
            "3266/3266 [==============================] - 0s 44us/step - loss: 0.3647\n",
            "Epoch 69/150\n",
            "3266/3266 [==============================] - 0s 42us/step - loss: 0.3649\n",
            "Epoch 70/150\n",
            "3266/3266 [==============================] - 0s 42us/step - loss: 0.3649\n",
            "Epoch 71/150\n",
            "3266/3266 [==============================] - 0s 43us/step - loss: 0.3651\n",
            "Epoch 72/150\n",
            "3266/3266 [==============================] - 0s 43us/step - loss: 0.3648\n",
            "Epoch 73/150\n",
            "3266/3266 [==============================] - 0s 41us/step - loss: 0.3650\n",
            "Epoch 74/150\n",
            "3266/3266 [==============================] - 0s 41us/step - loss: 0.3649\n",
            "Epoch 75/150\n",
            "3266/3266 [==============================] - 0s 40us/step - loss: 0.3648\n",
            "Epoch 76/150\n",
            "3266/3266 [==============================] - 0s 43us/step - loss: 0.3647\n",
            "Epoch 77/150\n",
            "3266/3266 [==============================] - 0s 40us/step - loss: 0.3646\n",
            "Epoch 78/150\n",
            "3266/3266 [==============================] - 0s 44us/step - loss: 0.3648\n",
            "Epoch 79/150\n",
            "3266/3266 [==============================] - 0s 39us/step - loss: 0.3648\n",
            "Epoch 80/150\n",
            "3266/3266 [==============================] - 0s 40us/step - loss: 0.3646\n",
            "Epoch 81/150\n",
            "3266/3266 [==============================] - 0s 41us/step - loss: 0.3648\n",
            "Epoch 82/150\n",
            "3266/3266 [==============================] - 0s 42us/step - loss: 0.3645\n",
            "Epoch 83/150\n",
            "3266/3266 [==============================] - 0s 46us/step - loss: 0.3649\n",
            "Epoch 84/150\n",
            "3266/3266 [==============================] - 0s 48us/step - loss: 0.3647\n",
            "Epoch 85/150\n",
            "3266/3266 [==============================] - 0s 43us/step - loss: 0.3647\n",
            "Epoch 86/150\n",
            "3266/3266 [==============================] - 0s 42us/step - loss: 0.3647\n",
            "Epoch 87/150\n",
            "3266/3266 [==============================] - 0s 41us/step - loss: 0.3649\n",
            "Epoch 88/150\n",
            "3266/3266 [==============================] - 0s 43us/step - loss: 0.3648\n",
            "Epoch 89/150\n",
            "3266/3266 [==============================] - 0s 43us/step - loss: 0.3645\n",
            "Epoch 90/150\n",
            "3266/3266 [==============================] - 0s 45us/step - loss: 0.3648\n",
            "Epoch 91/150\n",
            "3266/3266 [==============================] - 0s 46us/step - loss: 0.3649\n",
            "Epoch 92/150\n",
            "3266/3266 [==============================] - 0s 42us/step - loss: 0.3653\n",
            "Epoch 93/150\n",
            "3266/3266 [==============================] - 0s 43us/step - loss: 0.3648\n",
            "Epoch 94/150\n",
            "3266/3266 [==============================] - 0s 40us/step - loss: 0.3651\n",
            "Epoch 95/150\n",
            "3266/3266 [==============================] - 0s 40us/step - loss: 0.3650\n",
            "Epoch 96/150\n",
            "3266/3266 [==============================] - 0s 43us/step - loss: 0.3647\n",
            "Epoch 97/150\n",
            "3266/3266 [==============================] - 0s 41us/step - loss: 0.3648\n",
            "Epoch 98/150\n",
            "3266/3266 [==============================] - 0s 45us/step - loss: 0.3646\n",
            "Epoch 99/150\n",
            "3266/3266 [==============================] - 0s 44us/step - loss: 0.3647\n",
            "Epoch 100/150\n",
            "3266/3266 [==============================] - 0s 43us/step - loss: 0.3650\n",
            "Epoch 101/150\n",
            "3266/3266 [==============================] - 0s 43us/step - loss: 0.3648\n",
            "Epoch 102/150\n",
            "3266/3266 [==============================] - 0s 43us/step - loss: 0.3648\n",
            "Epoch 103/150\n",
            "3266/3266 [==============================] - 0s 45us/step - loss: 0.3647\n",
            "Epoch 104/150\n",
            "3266/3266 [==============================] - 0s 48us/step - loss: 0.3648\n",
            "Epoch 105/150\n",
            "3266/3266 [==============================] - 0s 47us/step - loss: 0.3648\n",
            "Epoch 106/150\n",
            "3266/3266 [==============================] - 0s 47us/step - loss: 0.3648\n",
            "Epoch 107/150\n",
            "3266/3266 [==============================] - 0s 42us/step - loss: 0.3650\n",
            "Epoch 108/150\n",
            "3266/3266 [==============================] - 0s 44us/step - loss: 0.3645\n",
            "Epoch 109/150\n",
            "3266/3266 [==============================] - 0s 42us/step - loss: 0.3648\n",
            "Epoch 110/150\n",
            "3266/3266 [==============================] - 0s 45us/step - loss: 0.3647\n",
            "Epoch 111/150\n",
            "3266/3266 [==============================] - 0s 44us/step - loss: 0.3645\n",
            "Epoch 112/150\n",
            "3266/3266 [==============================] - 0s 46us/step - loss: 0.3646\n",
            "Epoch 113/150\n",
            "3266/3266 [==============================] - 0s 41us/step - loss: 0.3648\n",
            "Epoch 114/150\n",
            "3266/3266 [==============================] - 0s 42us/step - loss: 0.3651\n",
            "Epoch 115/150\n",
            "3266/3266 [==============================] - 0s 44us/step - loss: 0.3645\n",
            "Epoch 116/150\n",
            "3266/3266 [==============================] - 0s 44us/step - loss: 0.3647\n",
            "Epoch 117/150\n",
            "3266/3266 [==============================] - 0s 41us/step - loss: 0.3646\n",
            "Epoch 118/150\n",
            "3266/3266 [==============================] - 0s 42us/step - loss: 0.3646\n",
            "Epoch 119/150\n",
            "3266/3266 [==============================] - 0s 45us/step - loss: 0.3649\n",
            "Epoch 120/150\n",
            "3266/3266 [==============================] - 0s 42us/step - loss: 0.3647\n",
            "Epoch 121/150\n",
            "3266/3266 [==============================] - 0s 51us/step - loss: 0.3647\n",
            "Epoch 122/150\n",
            "3266/3266 [==============================] - 0s 48us/step - loss: 0.3648\n",
            "Epoch 123/150\n",
            "3266/3266 [==============================] - 0s 47us/step - loss: 0.3649\n",
            "Epoch 124/150\n",
            "3266/3266 [==============================] - 0s 48us/step - loss: 0.3646\n",
            "Epoch 125/150\n",
            "3266/3266 [==============================] - 0s 49us/step - loss: 0.3648\n",
            "Epoch 126/150\n",
            "3266/3266 [==============================] - 0s 51us/step - loss: 0.3651\n",
            "Epoch 127/150\n",
            "3266/3266 [==============================] - 0s 52us/step - loss: 0.3649\n",
            "Epoch 128/150\n",
            "3266/3266 [==============================] - 0s 51us/step - loss: 0.3648\n",
            "Epoch 129/150\n",
            "3266/3266 [==============================] - 0s 46us/step - loss: 0.3647\n",
            "Epoch 130/150\n",
            "3266/3266 [==============================] - 0s 42us/step - loss: 0.3648\n",
            "Epoch 131/150\n",
            "3266/3266 [==============================] - 0s 41us/step - loss: 0.3648\n",
            "Epoch 132/150\n",
            "3266/3266 [==============================] - 0s 53us/step - loss: 0.3647\n",
            "Epoch 133/150\n",
            "3266/3266 [==============================] - 0s 43us/step - loss: 0.3646\n",
            "Epoch 134/150\n",
            "3266/3266 [==============================] - 0s 45us/step - loss: 0.3647\n",
            "Epoch 135/150\n",
            "3266/3266 [==============================] - 0s 44us/step - loss: 0.3648\n",
            "Epoch 136/150\n",
            "3266/3266 [==============================] - 0s 41us/step - loss: 0.3648\n",
            "Epoch 137/150\n",
            "3266/3266 [==============================] - 0s 44us/step - loss: 0.3647\n",
            "Epoch 138/150\n",
            "3266/3266 [==============================] - 0s 42us/step - loss: 0.3649\n",
            "Epoch 139/150\n",
            "3266/3266 [==============================] - 0s 45us/step - loss: 0.3647\n",
            "Epoch 140/150\n",
            "3266/3266 [==============================] - 0s 42us/step - loss: 0.3648\n",
            "Epoch 141/150\n",
            "3266/3266 [==============================] - 0s 43us/step - loss: 0.3646\n",
            "Epoch 142/150\n",
            "3266/3266 [==============================] - 0s 49us/step - loss: 0.3647\n",
            "Epoch 143/150\n",
            "3266/3266 [==============================] - 0s 46us/step - loss: 0.3648\n",
            "Epoch 144/150\n",
            "3266/3266 [==============================] - 0s 43us/step - loss: 0.3647\n",
            "Epoch 145/150\n",
            "3266/3266 [==============================] - 0s 41us/step - loss: 0.3646\n",
            "Epoch 146/150\n",
            "3266/3266 [==============================] - 0s 45us/step - loss: 0.3646\n",
            "Epoch 147/150\n",
            "3266/3266 [==============================] - 0s 44us/step - loss: 0.3646\n",
            "Epoch 148/150\n",
            "3266/3266 [==============================] - 0s 41us/step - loss: 0.3652\n",
            "Epoch 149/150\n",
            "3266/3266 [==============================] - 0s 42us/step - loss: 0.3648\n",
            "Epoch 150/150\n",
            "3266/3266 [==============================] - 0s 44us/step - loss: 0.3652\n"
          ],
          "name": "stdout"
        }
      ]
    },
    {
      "cell_type": "code",
      "metadata": {
        "id": "p7nhXsEATbyo",
        "colab_type": "code",
        "outputId": "bf20e80d-6ec7-4c6d-a061-aa65efdd4e55",
        "colab": {
          "base_uri": "https://localhost:8080/",
          "height": 282
        }
      },
      "source": [
        "plt.plot(hist.history['loss'])"
      ],
      "execution_count": 0,
      "outputs": [
        {
          "output_type": "execute_result",
          "data": {
            "text/plain": [
              "[<matplotlib.lines.Line2D at 0x7f0fd6eb9390>]"
            ]
          },
          "metadata": {
            "tags": []
          },
          "execution_count": 408
        },
        {
          "output_type": "display_data",
          "data": {
            "image/png": "[encoded data removed]",
            "text/plain": [
              "<Figure size 432x288 with 1 Axes>"
            ]
          },
          "metadata": {
            "tags": []
          }
        }
      ]
    },
    {
      "cell_type": "code",
      "metadata": {
        "id": "OmsckKHSDDO1",
        "colab_type": "code",
        "outputId": "f39a094d-8734-47f8-a6b1-11da9615a850",
        "colab": {
          "base_uri": "https://localhost:8080/",
          "height": 286
        }
      },
      "source": [
        "means = []\n",
        "for i in range(10):\n",
        "  mean, scores = agent_perf(agent,n=100,show_lose=True)\n",
        "  means.append(mean)\n",
        "  plt.plot(sorted(scores))\n",
        "plt.ylim(INVALID,WIN)\n",
        "plt.show()\n",
        "max(means)\n"
      ],
      "execution_count": 0,
      "outputs": [
        {
          "output_type": "display_data",
          "data": {
            "image/png": "[encoded data removed]",
            "text/plain": [
              "<Figure size 432x288 with 1 Axes>"
            ]
          },
          "metadata": {
            "tags": []
          }
        },
        {
          "output_type": "execute_result",
          "data": {
            "text/plain": [
              "1.0"
            ]
          },
          "metadata": {
            "tags": []
          },
          "execution_count": 409
        }
      ]
    },
    {
      "cell_type": "code",
      "metadata": {
        "id": "N1q8FW6Cbdwg",
        "colab_type": "code",
        "outputId": "d928e3e1-fa75-488f-e102-8cdbddc8a01a",
        "colab": {
          "base_uri": "https://localhost:8080/",
          "height": 34
        }
      },
      "source": [
        "mean, scores = agent_perf(agent,n=100, show_lose=True)\n",
        "mean"
      ],
      "execution_count": 0,
      "outputs": [
        {
          "output_type": "execute_result",
          "data": {
            "text/plain": [
              "1.0"
            ]
          },
          "metadata": {
            "tags": []
          },
          "execution_count": 412
        }
      ]
    },
    {
      "cell_type": "markdown",
      "metadata": {
        "id": "cwubgEAk70o6",
        "colab_type": "text"
      },
      "source": [
        "# Lets play"
      ]
    },
    {
      "cell_type": "code",
      "metadata": {
        "id": "cmN8dSHCtK7A",
        "colab_type": "code",
        "outputId": "a6723553-d42f-43ca-dd10-5b542cef9be2",
        "colab": {
          "base_uri": "https://localhost:8080/",
          "height": 1000
        }
      },
      "source": [
        "game = XandOs()\n",
        "\n",
        "game.render()\n",
        "player_move = int(input())\n",
        "player_reward = game.make_move(player_move, player=2)\n",
        "\n",
        "while not game.end:\n",
        "  move, pred = agent.decide_move(game.state)\n",
        "  reward = game.make_move(move)\n",
        "  game.render()\n",
        "  print('valid move', reward)\n",
        "  print(pred)\n",
        "\n",
        "  if not game.end:\n",
        "    player_move = int(input())\n",
        "    player_reward = game.make_move(player_move, player=2)\n",
        "    print(player_move, player_reward)\n",
        "\n"
      ],
      "execution_count": 0,
      "outputs": [
        {
          "output_type": "display_data",
          "data": {
            "image/png": "[encoded data removed]",
            "text/plain": [
              "<Figure size 432x288 with 2 Axes>"
            ]
          },
          "metadata": {
            "tags": []
          }
        },
        {
          "output_type": "stream",
          "text": [
            "3\n"
          ],
          "name": "stdout"
        },
        {
          "output_type": "display_data",
          "data": {
            "image/png": "[encoded data removed]",
            "text/plain": [
              "<Figure size 432x288 with 2 Axes>"
            ]
          },
          "metadata": {
            "tags": []
          }
        },
        {
          "output_type": "display_data",
          "data": {
            "image/png": "[encoded data removed]",
            "text/plain": [
              "<Figure size 432x288 with 2 Axes>"
            ]
          },
          "metadata": {
            "tags": []
          }
        },
        {
          "output_type": "stream",
          "text": [
            "valid move True\n",
            "[9.5911449e-01 4.0012732e-01 4.3898532e-01 3.2782555e-07 5.9564728e-01\n",
            " 3.5727382e-01 6.1504680e-01 3.2291222e-01 6.2474960e-01]\n",
            "4\n",
            "4 True\n"
          ],
          "name": "stdout"
        },
        {
          "output_type": "display_data",
          "data": {
            "image/png": "[encoded data removed]",
            "text/plain": [
              "<Figure size 432x288 with 2 Axes>"
            ]
          },
          "metadata": {
            "tags": []
          }
        },
        {
          "output_type": "display_data",
          "data": {
            "image/png": "[encoded data removed]",
            "text/plain": [
              "<Figure size 432x288 with 2 Axes>"
            ]
          },
          "metadata": {
            "tags": []
          }
        },
        {
          "output_type": "stream",
          "text": [
            "valid move True\n",
            "[0.         0.02969357 0.16465813 0.         0.         0.9955013\n",
            " 0.19414705 0.02345785 0.04613736]\n",
            "6\n",
            "6 True\n"
          ],
          "name": "stdout"
        },
        {
          "output_type": "display_data",
          "data": {
            "image/png": "[encoded data removed]",
            "text/plain": [
              "<Figure size 432x288 with 2 Axes>"
            ]
          },
          "metadata": {
            "tags": []
          }
        },
        {
          "output_type": "display_data",
          "data": {
            "image/png": "[encoded data removed]",
            "text/plain": [
              "<Figure size 432x288 with 2 Axes>"
            ]
          },
          "metadata": {
            "tags": []
          }
        },
        {
          "output_type": "stream",
          "text": [
            "valid move True\n",
            "[0.0000000e+00 2.2417915e-01 9.9990451e-01 0.0000000e+00 0.0000000e+00\n",
            " 2.9802322e-08 0.0000000e+00 2.6210201e-01 7.2412694e-01]\n"
          ],
          "name": "stdout"
        },
        {
          "output_type": "error",
          "ename": "KeyboardInterrupt",
          "evalue": "ignored",
          "traceback": [
            "\u001b[0;31m---------------------------------------------------------------------------\u001b[0m",
            "\u001b[0;31mKeyboardInterrupt\u001b[0m                         Traceback (most recent call last)",
            "\u001b[0;32m/usr/local/lib/python3.6/dist-packages/ipykernel/kernelbase.py\u001b[0m in \u001b[0;36m_input_request\u001b[0;34m(self, prompt, ident, parent, password)\u001b[0m\n\u001b[1;32m    729\u001b[0m             \u001b[0;32mtry\u001b[0m\u001b[0;34m:\u001b[0m\u001b[0;34m\u001b[0m\u001b[0;34m\u001b[0m\u001b[0m\n\u001b[0;32m--> 730\u001b[0;31m                 \u001b[0mident\u001b[0m\u001b[0;34m,\u001b[0m \u001b[0mreply\u001b[0m \u001b[0;34m=\u001b[0m \u001b[0mself\u001b[0m\u001b[0;34m.\u001b[0m\u001b[0msession\u001b[0m\u001b[0;34m.\u001b[0m\u001b[0mrecv\u001b[0m\u001b[0;34m(\u001b[0m\u001b[0mself\u001b[0m\u001b[0;34m.\u001b[0m\u001b[0mstdin_socket\u001b[0m\u001b[0;34m,\u001b[0m \u001b[0;36m0\u001b[0m\u001b[0;34m)\u001b[0m\u001b[0;34m\u001b[0m\u001b[0;34m\u001b[0m\u001b[0m\n\u001b[0m\u001b[1;32m    731\u001b[0m             \u001b[0;32mexcept\u001b[0m \u001b[0mException\u001b[0m\u001b[0;34m:\u001b[0m\u001b[0;34m\u001b[0m\u001b[0;34m\u001b[0m\u001b[0m\n",
            "\u001b[0;32m/usr/local/lib/python3.6/dist-packages/jupyter_client/session.py\u001b[0m in \u001b[0;36mrecv\u001b[0;34m(self, socket, mode, content, copy)\u001b[0m\n\u001b[1;32m    802\u001b[0m         \u001b[0;32mtry\u001b[0m\u001b[0;34m:\u001b[0m\u001b[0;34m\u001b[0m\u001b[0;34m\u001b[0m\u001b[0m\n\u001b[0;32m--> 803\u001b[0;31m             \u001b[0mmsg_list\u001b[0m \u001b[0;34m=\u001b[0m \u001b[0msocket\u001b[0m\u001b[0;34m.\u001b[0m\u001b[0mrecv_multipart\u001b[0m\u001b[0;34m(\u001b[0m\u001b[0mmode\u001b[0m\u001b[0;34m,\u001b[0m \u001b[0mcopy\u001b[0m\u001b[0;34m=\u001b[0m\u001b[0mcopy\u001b[0m\u001b[0;34m)\u001b[0m\u001b[0;34m\u001b[0m\u001b[0;34m\u001b[0m\u001b[0m\n\u001b[0m\u001b[1;32m    804\u001b[0m         \u001b[0;32mexcept\u001b[0m \u001b[0mzmq\u001b[0m\u001b[0;34m.\u001b[0m\u001b[0mZMQError\u001b[0m \u001b[0;32mas\u001b[0m \u001b[0me\u001b[0m\u001b[0;34m:\u001b[0m\u001b[0;34m\u001b[0m\u001b[0;34m\u001b[0m\u001b[0m\n",
            "\u001b[0;32m/usr/local/lib/python3.6/dist-packages/zmq/sugar/socket.py\u001b[0m in \u001b[0;36mrecv_multipart\u001b[0;34m(self, flags, copy, track)\u001b[0m\n\u001b[1;32m    465\u001b[0m         \"\"\"\n\u001b[0;32m--> 466\u001b[0;31m         \u001b[0mparts\u001b[0m \u001b[0;34m=\u001b[0m \u001b[0;34m[\u001b[0m\u001b[0mself\u001b[0m\u001b[0;34m.\u001b[0m\u001b[0mrecv\u001b[0m\u001b[0;34m(\u001b[0m\u001b[0mflags\u001b[0m\u001b[0;34m,\u001b[0m \u001b[0mcopy\u001b[0m\u001b[0;34m=\u001b[0m\u001b[0mcopy\u001b[0m\u001b[0;34m,\u001b[0m \u001b[0mtrack\u001b[0m\u001b[0;34m=\u001b[0m\u001b[0mtrack\u001b[0m\u001b[0;34m)\u001b[0m\u001b[0;34m]\u001b[0m\u001b[0;34m\u001b[0m\u001b[0;34m\u001b[0m\u001b[0m\n\u001b[0m\u001b[1;32m    467\u001b[0m         \u001b[0;31m# have first part already, only loop while more to receive\u001b[0m\u001b[0;34m\u001b[0m\u001b[0;34m\u001b[0m\u001b[0;34m\u001b[0m\u001b[0m\n",
            "\u001b[0;32mzmq/backend/cython/socket.pyx\u001b[0m in \u001b[0;36mzmq.backend.cython.socket.Socket.recv\u001b[0;34m()\u001b[0m\n",
            "\u001b[0;32mzmq/backend/cython/socket.pyx\u001b[0m in \u001b[0;36mzmq.backend.cython.socket.Socket.recv\u001b[0;34m()\u001b[0m\n",
            "\u001b[0;32mzmq/backend/cython/socket.pyx\u001b[0m in \u001b[0;36mzmq.backend.cython.socket._recv_copy\u001b[0;34m()\u001b[0m\n",
            "\u001b[0;32m/usr/local/lib/python3.6/dist-packages/zmq/backend/cython/checkrc.pxd\u001b[0m in \u001b[0;36mzmq.backend.cython.checkrc._check_rc\u001b[0;34m()\u001b[0m\n",
            "\u001b[0;31mKeyboardInterrupt\u001b[0m: ",
            "\nDuring handling of the above exception, another exception occurred:\n",
            "\u001b[0;31mKeyboardInterrupt\u001b[0m                         Traceback (most recent call last)",
            "\u001b[0;32m<ipython-input-392-449913397003>\u001b[0m in \u001b[0;36m<module>\u001b[0;34m()\u001b[0m\n\u001b[1;32m     13\u001b[0m \u001b[0;34m\u001b[0m\u001b[0m\n\u001b[1;32m     14\u001b[0m   \u001b[0;32mif\u001b[0m \u001b[0;32mnot\u001b[0m \u001b[0mgame\u001b[0m\u001b[0;34m.\u001b[0m\u001b[0mend\u001b[0m\u001b[0;34m:\u001b[0m\u001b[0;34m\u001b[0m\u001b[0;34m\u001b[0m\u001b[0m\n\u001b[0;32m---> 15\u001b[0;31m     \u001b[0mplayer_move\u001b[0m \u001b[0;34m=\u001b[0m \u001b[0mint\u001b[0m\u001b[0;34m(\u001b[0m\u001b[0minput\u001b[0m\u001b[0;34m(\u001b[0m\u001b[0;34m)\u001b[0m\u001b[0;34m)\u001b[0m\u001b[0;34m\u001b[0m\u001b[0;34m\u001b[0m\u001b[0m\n\u001b[0m\u001b[1;32m     16\u001b[0m     \u001b[0mplayer_reward\u001b[0m \u001b[0;34m=\u001b[0m \u001b[0mgame\u001b[0m\u001b[0;34m.\u001b[0m\u001b[0mmake_move\u001b[0m\u001b[0;34m(\u001b[0m\u001b[0mplayer_move\u001b[0m\u001b[0;34m,\u001b[0m \u001b[0mplayer\u001b[0m\u001b[0;34m=\u001b[0m\u001b[0;36m2\u001b[0m\u001b[0;34m)\u001b[0m\u001b[0;34m\u001b[0m\u001b[0;34m\u001b[0m\u001b[0m\n\u001b[1;32m     17\u001b[0m     \u001b[0mprint\u001b[0m\u001b[0;34m(\u001b[0m\u001b[0mplayer_move\u001b[0m\u001b[0;34m,\u001b[0m \u001b[0mplayer_reward\u001b[0m\u001b[0;34m)\u001b[0m\u001b[0;34m\u001b[0m\u001b[0;34m\u001b[0m\u001b[0m\n",
            "\u001b[0;32m/usr/local/lib/python3.6/dist-packages/ipykernel/kernelbase.py\u001b[0m in \u001b[0;36mraw_input\u001b[0;34m(self, prompt)\u001b[0m\n\u001b[1;32m    703\u001b[0m             \u001b[0mself\u001b[0m\u001b[0;34m.\u001b[0m\u001b[0m_parent_ident\u001b[0m\u001b[0;34m,\u001b[0m\u001b[0;34m\u001b[0m\u001b[0;34m\u001b[0m\u001b[0m\n\u001b[1;32m    704\u001b[0m             \u001b[0mself\u001b[0m\u001b[0;34m.\u001b[0m\u001b[0m_parent_header\u001b[0m\u001b[0;34m,\u001b[0m\u001b[0;34m\u001b[0m\u001b[0;34m\u001b[0m\u001b[0m\n\u001b[0;32m--> 705\u001b[0;31m             \u001b[0mpassword\u001b[0m\u001b[0;34m=\u001b[0m\u001b[0;32mFalse\u001b[0m\u001b[0;34m,\u001b[0m\u001b[0;34m\u001b[0m\u001b[0;34m\u001b[0m\u001b[0m\n\u001b[0m\u001b[1;32m    706\u001b[0m         )\n\u001b[1;32m    707\u001b[0m \u001b[0;34m\u001b[0m\u001b[0m\n",
            "\u001b[0;32m/usr/local/lib/python3.6/dist-packages/ipykernel/kernelbase.py\u001b[0m in \u001b[0;36m_input_request\u001b[0;34m(self, prompt, ident, parent, password)\u001b[0m\n\u001b[1;32m    733\u001b[0m             \u001b[0;32mexcept\u001b[0m \u001b[0mKeyboardInterrupt\u001b[0m\u001b[0;34m:\u001b[0m\u001b[0;34m\u001b[0m\u001b[0;34m\u001b[0m\u001b[0m\n\u001b[1;32m    734\u001b[0m                 \u001b[0;31m# re-raise KeyboardInterrupt, to truncate traceback\u001b[0m\u001b[0;34m\u001b[0m\u001b[0;34m\u001b[0m\u001b[0;34m\u001b[0m\u001b[0m\n\u001b[0;32m--> 735\u001b[0;31m                 \u001b[0;32mraise\u001b[0m \u001b[0mKeyboardInterrupt\u001b[0m\u001b[0;34m\u001b[0m\u001b[0;34m\u001b[0m\u001b[0m\n\u001b[0m\u001b[1;32m    736\u001b[0m             \u001b[0;32melse\u001b[0m\u001b[0;34m:\u001b[0m\u001b[0;34m\u001b[0m\u001b[0;34m\u001b[0m\u001b[0m\n\u001b[1;32m    737\u001b[0m                 \u001b[0;32mbreak\u001b[0m\u001b[0;34m\u001b[0m\u001b[0;34m\u001b[0m\u001b[0m\n",
            "\u001b[0;31mKeyboardInterrupt\u001b[0m: "
          ]
        }
      ]
    },
    {
      "cell_type": "code",
      "metadata": {
        "id": "dQs8vaNeeuSO",
        "colab_type": "code",
        "outputId": "2bd2860c-d9db-4d52-a0b5-2b212f99e395",
        "colab": {
          "base_uri": "https://localhost:8080/",
          "height": 34
        }
      },
      "source": [
        "|game.end"
      ],
      "execution_count": 0,
      "outputs": [
        {
          "output_type": "execute_result",
          "data": {
            "text/plain": [
              "False"
            ]
          },
          "metadata": {
            "tags": []
          },
          "execution_count": 64
        }
      ]
    },
    {
      "cell_type": "code",
      "metadata": {
        "id": "p_DKqBLVDyW9",
        "colab_type": "code",
        "colab": {}
      },
      "source": [
        "game.end"
      ],
      "execution_count": 0,
      "outputs": []
    },
    {
      "cell_type": "code",
      "metadata": {
        "id": "rH7Uum0Gevf4",
        "colab_type": "code",
        "colab": {}
      },
      "source": [
        "agent.model.save('v4.keras')"
      ],
      "execution_count": 0,
      "outputs": []
    },
    {
      "cell_type": "code",
      "metadata": {
        "id": "mpJwa-ZQfG5x",
        "colab_type": "code",
        "colab": {}
      },
      "source": [
        "agent.model.save_weights('winer_weights_v3.keras')"
      ],
      "execution_count": 0,
      "outputs": []
    },
    {
      "cell_type": "code",
      "metadata": {
        "id": "D_UWux3XgSuV",
        "colab_type": "code",
        "colab": {}
      },
      "source": [
        ""
      ],
      "execution_count": 0,
      "outputs": []
    }
  ]
}