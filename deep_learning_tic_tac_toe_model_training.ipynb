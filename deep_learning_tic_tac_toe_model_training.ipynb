{
  "nbformat": 4,
  "nbformat_minor": 0,
  "metadata": {
    "colab": {
      "name": "deep learning tic-tac-toe model training.ipynb",
      "provenance": [],
      "collapsed_sections": [],
      "include_colab_link": true
    },
    "kernelspec": {
      "name": "python3",
      "display_name": "Python 3"
    },
    "accelerator": "GPU"
  },
  "cells": [
    {
      "cell_type": "markdown",
      "metadata": {
        "id": "view-in-github",
        "colab_type": "text"
      },
      "source": [
        "<a href=\"https://colab.research.google.com/github/ZackAkil/deep-tic-tac-toe/blob/master/deep_learning_tic_tac_toe_model_training.ipynb\" target=\"_parent\"><img src=\"https://colab.research.google.com/assets/colab-badge.svg\" alt=\"Open In Colab\"/></a>"
      ]
    },
    {
      "cell_type": "code",
      "metadata": {
        "id": "nKBz663XdQhj",
        "colab_type": "code",
        "colab": {}
      },
      "source": [
        "import numpy as np\n",
        "import matplotlib.pyplot as plt\n"
      ],
      "execution_count": 0,
      "outputs": []
    },
    {
      "cell_type": "code",
      "metadata": {
        "id": "kU3ye6JadXQU",
        "colab_type": "code",
        "cellView": "both",
        "colab": {}
      },
      "source": [
        "#@title\n",
        "class XandOs():\n",
        "  def __init__(self, log = False):\n",
        "    self.state = np.zeros([3,3], dtype=np.int16)\n",
        "    self.end = False\n",
        "    self.history = []\n",
        "    self.log = log\n",
        "\n",
        "  def make_move(self, pos, player=1):\n",
        "  \n",
        "    if self.state.flatten()[pos]:\n",
        "       # invalid move\n",
        "       if self.log:\n",
        "        print('player {0} INVALID move {1}'.format(player, pos))\n",
        "       return False\n",
        "    else:\n",
        "      # make move\n",
        "      if self.log:\n",
        "        print('player {0} making move {1}'.format(player, pos))\n",
        "      grid = self.state.flatten()\n",
        "      grid[pos] = player\n",
        "      self.state = np.reshape(grid, [3,3])\n",
        "      return True\n",
        "\n",
        "  def check_win(self, player=1):\n",
        "    bool_grid = self.state == player\n",
        "    return win(bool_grid)\n",
        "\n",
        "\n",
        "  def step(self, action):\n",
        "\n",
        "    self.history.append([self.state, action])\n",
        "    reward = 0\n",
        "    pos = action\n",
        "    valid_move = self.make_move(pos, player=1)\n",
        "\n",
        "    if not valid_move:\n",
        "      reward = -3\n",
        "      self.end = True\n",
        "\n",
        "    elif self.check_win(player=1):\n",
        "      if self.log:\n",
        "        print('player 1 win')\n",
        "      reward = 1\n",
        "      self.end = True\n",
        "\n",
        "    elif self.game_full():\n",
        "      if self.log:\n",
        "        print('player 1 ended game')\n",
        "      self.end = True\n",
        "      reward = 0.5\n",
        "\n",
        "    if self.end:  \n",
        "      return reward, self.state, self.end\n",
        "\n",
        "    # player 2 move\n",
        "    player_2_move = self.rand_agent_move(player=2)\n",
        "    valid_move = self.make_move(player_2_move, player=2)\n",
        "\n",
        "    if not valid_move:\n",
        "      reward = 1\n",
        "      self.end = True\n",
        "\n",
        "    elif self.check_win(player=2):\n",
        "      if self.log:\n",
        "        print('player 2 win')\n",
        "      reward = -2\n",
        "      self.end = True\n",
        "\n",
        "    elif self.game_full():\n",
        "      if self.log:\n",
        "        print('player 2 ended game')\n",
        "      self.end = True\n",
        "      reward = 0.5\n",
        "\n",
        "    if self.end:  \n",
        "      return reward, self.state, self.end\n",
        "\n",
        "    return reward, self.state, self.end\n",
        "\n",
        "\n",
        "\n",
        "  def render(self):\n",
        "    render_game(self.state)\n",
        "\n",
        "  def game_full(self):\n",
        "    return (self.state==0).sum() == 0\n",
        "\n",
        "\n",
        "  def rand_agent_move(self, player = 2):\n",
        "\n",
        "    flat_state = self.state.flatten() == 0\n",
        "    empty_indexs, = np.where(flat_state)\n",
        "\n",
        "    for indx in empty_indexs:\n",
        "      grid = self.state.flatten() == player\n",
        "      grid[indx] = True\n",
        "      if win(np.reshape(grid,[3,3])):\n",
        "        if self.log:\n",
        "          print('found winning move ')\n",
        "        return indx\n",
        "    if len(empty_indexs):\n",
        "      return np.random.choice(empty_indexs)\n",
        "    else:\n",
        "      return 0\n",
        "\n",
        "def win(bool_grid):\n",
        "  # horizontal\n",
        "  for row in bool_grid:\n",
        "    if row.sum() == 3:\n",
        "      return True\n",
        "\n",
        "  # vertical\n",
        "  for row in bool_grid.T:\n",
        "    if row.sum() == 3:\n",
        "      return True\n",
        "\n",
        "  # diangonal 1\n",
        "  if np.reshape(bool_grid,[-1])[::4].sum() == 3:\n",
        "    return True\n",
        "\n",
        "  # diangonal 2\n",
        "  if np.reshape(bool_grid,[-1])[2:7:2].sum() == 3:\n",
        "    return True\n",
        "\n",
        "  return False\n",
        "\n",
        "def render_game(state):\n",
        "\n",
        "    # data = np.reshape(pred, [3,3])\n",
        "    fig, ax = plt.subplots()\n",
        "    im = ax.imshow(state/2, cmap=plt.get_cmap('cool'), interpolation='nearest',\n",
        "              vmin=0, vmax=1)\n",
        "    text_num = 0\n",
        "    for i in range(3):\n",
        "      for j in range(3):\n",
        "        ax.text(j, i, str(text_num))\n",
        "        text_num += 1\n",
        "\n",
        "      # Minor ticks\n",
        "    fig.colorbar(im)\n",
        "    plt.show()"
      ],
      "execution_count": 0,
      "outputs": []
    },
    {
      "cell_type": "code",
      "metadata": {
        "id": "P1KUiRucnHqD",
        "colab_type": "code",
        "colab": {}
      },
      "source": [
        "game = XandOs()"
      ],
      "execution_count": 0,
      "outputs": []
    },
    {
      "cell_type": "code",
      "metadata": {
        "id": "H9CbboUHnAz4",
        "colab_type": "code",
        "outputId": "b9608cb9-181f-450f-bf66-e13bbb66347b",
        "colab": {
          "base_uri": "https://localhost:8080/",
          "height": 319
        }
      },
      "source": [
        "print(game.step(1))\n",
        "game.render()"
      ],
      "execution_count": 4,
      "outputs": [
        {
          "output_type": "stream",
          "text": [
            "(0, array([[0, 1, 0],\n",
            "       [0, 0, 2],\n",
            "       [0, 0, 0]], dtype=int16), False)\n"
          ],
          "name": "stdout"
        },
        {
          "output_type": "display_data",
          "data": {
            "image/png": "[encoded data removed]",
            "text/plain": [
              "<Figure size 432x288 with 2 Axes>"
            ]
          },
          "metadata": {
            "tags": []
          }
        }
      ]
    },
    {
      "cell_type": "code",
      "metadata": {
        "id": "XcfHE9Ekj8i0",
        "colab_type": "code",
        "outputId": "0baa38de-809f-4790-ed95-6ebe84d64e0f",
        "colab": {
          "base_uri": "https://localhost:8080/",
          "height": 924
        }
      },
      "source": [
        "game = XandOs()\n",
        "\n",
        "while(not game.end):\n",
        "  move = np.random.choice(range(9))\n",
        "  print(game.step(move))\n",
        "  game.render()\n",
        "\n"
      ],
      "execution_count": 5,
      "outputs": [
        {
          "output_type": "stream",
          "text": [
            "(0, array([[2, 0, 0],\n",
            "       [0, 0, 0],\n",
            "       [0, 1, 0]], dtype=int16), False)\n"
          ],
          "name": "stdout"
        },
        {
          "output_type": "display_data",
          "data": {
            "image/png": "[encoded data removed]",
            "text/plain": [
              "<Figure size 432x288 with 2 Axes>"
            ]
          },
          "metadata": {
            "tags": []
          }
        },
        {
          "output_type": "stream",
          "text": [
            "(0, array([[2, 0, 0],\n",
            "       [0, 0, 0],\n",
            "       [1, 1, 2]], dtype=int16), False)\n"
          ],
          "name": "stdout"
        },
        {
          "output_type": "display_data",
          "data": {
            "image/png": "[encoded data removed]",
            "text/plain": [
              "<Figure size 432x288 with 2 Axes>"
            ]
          },
          "metadata": {
            "tags": []
          }
        },
        {
          "output_type": "stream",
          "text": [
            "(-2, array([[2, 0, 0],\n",
            "       [0, 0, 0],\n",
            "       [1, 1, 2]], dtype=int16), True)\n"
          ],
          "name": "stdout"
        },
        {
          "output_type": "display_data",
          "data": {
            "image/png": "[encoded data removed]",
            "text/plain": [
              "<Figure size 432x288 with 2 Axes>"
            ]
          },
          "metadata": {
            "tags": []
          }
        }
      ]
    },
    {
      "cell_type": "code",
      "metadata": {
        "id": "ZItV8JI04SqL",
        "colab_type": "code",
        "outputId": "71782c38-e6f8-44d1-8022-bb05fca98b50",
        "colab": {
          "base_uri": "https://localhost:8080/",
          "height": 34
        }
      },
      "source": [
        "len(game.history)"
      ],
      "execution_count": 6,
      "outputs": [
        {
          "output_type": "execute_result",
          "data": {
            "text/plain": [
              "3"
            ]
          },
          "metadata": {
            "tags": []
          },
          "execution_count": 6
        }
      ]
    },
    {
      "cell_type": "code",
      "metadata": {
        "id": "Ry3PE3K3o2iY",
        "colab_type": "code",
        "outputId": "a58c97bf-f260-4d77-c8c7-37fd283c65b4",
        "colab": {
          "base_uri": "https://localhost:8080/",
          "height": 79
        }
      },
      "source": [
        "import keras\n",
        "from keras.datasets import mnist\n",
        "from keras.models import Sequential\n",
        "from keras.layers import Dense, Dropout, Flatten\n",
        "from keras.layers import Conv2D, MaxPooling2D, Conv2DTranspose\n",
        "from keras import backend as K"
      ],
      "execution_count": 7,
      "outputs": [
        {
          "output_type": "stream",
          "text": [
            "Using TensorFlow backend.\n"
          ],
          "name": "stderr"
        },
        {
          "output_type": "display_data",
          "data": {
            "text/html": [
              "<p style=\"color: red;\">\n",
              "The default version of TensorFlow in Colab will soon switch to TensorFlow 2.x.<br>\n",
              "We recommend you <a href=\"https://www.tensorflow.org/guide/migrate\" target=\"_blank\">upgrade</a> now \n",
              "or ensure your notebook will continue to use TensorFlow 1.x via the <code>%tensorflow_version 1.x</code> magic:\n",
              "<a href=\"https://colab.research.google.com/notebooks/tensorflow_version.ipynb\" target=\"_blank\">more info</a>.</p>\n"
            ],
            "text/plain": [
              "<IPython.core.display.HTML object>"
            ]
          },
          "metadata": {
            "tags": []
          }
        }
      ]
    },
    {
      "cell_type": "code",
      "metadata": {
        "id": "oB9NMGULt20B",
        "colab_type": "code",
        "colab": {}
      },
      "source": [
        "from collections import deque"
      ],
      "execution_count": 0,
      "outputs": []
    },
    {
      "cell_type": "code",
      "metadata": {
        "id": "hOF8pY1VcDw0",
        "colab_type": "code",
        "colab": {}
      },
      "source": [
        "class Agent():\n",
        "\n",
        "  def __init__(self):\n",
        "    self.model = self.create_model()\n",
        "\n",
        "  def create_model(self):\n",
        "    model = Sequential()\n",
        "    # model.add(Flatten(input_shape=[3,3,2]))\n",
        "    model.add(Conv2D(8, kernel_size=(1, 1),\n",
        "                 activation='relu',\n",
        "                 input_shape=[3,3,2],\n",
        "                 strides=(1,1), padding='same'))\n",
        "    model.add(Conv2D(8, (3, 3), activation='relu',padding='same'))\n",
        "    model.add(Flatten())\n",
        "    model.add(Dense(50, activation='relu'))\n",
        "    model.add(Dropout(0.1))\n",
        "    model.add(Dense(9, activation='sigmoid'))\n",
        "    model.compile(loss='binary_crossentropy', optimizer='adam')\n",
        "    return model\n",
        "\n",
        "  def show_heat_map(self, pred):\n",
        "    data = np.reshape(pred, [3,3])\n",
        "    fig, ax = plt.subplots()\n",
        "    im = ax.imshow(data, cmap=plt.get_cmap('hot'), interpolation='nearest',\n",
        "              vmin=0, vmax=1)\n",
        "    fig.colorbar(im)\n",
        "    plt.show()\n",
        "\n",
        "  def decide_move(self, env, show=True, valid_move = False):\n",
        "    model_input = np.zeros([1,3,3,2])\n",
        "    model_input[0,:,:,0] = env==1\n",
        "    model_input[0,:,:,1] = env==2\n",
        "\n",
        "    pred = np.squeeze(self.model.predict(model_input))\n",
        "    \n",
        "    if valid_move:\n",
        "      # zero out anywhere where there is already a player\n",
        "      pred[env.flatten() != 0] = 0\n",
        "\n",
        "    if show:\n",
        "      self.show_heat_map(pred)\n",
        "    return pred.argmax(), pred\n"
      ],
      "execution_count": 0,
      "outputs": []
    },
    {
      "cell_type": "markdown",
      "metadata": {
        "id": "m97oo1yaq8Fc",
        "colab_type": "text"
      },
      "source": [
        "# The game"
      ]
    },
    {
      "cell_type": "code",
      "metadata": {
        "id": "s8QvSz-4i0OZ",
        "colab_type": "code",
        "colab": {}
      },
      "source": [
        "from sklearn.preprocessing import normalize"
      ],
      "execution_count": 0,
      "outputs": []
    },
    {
      "cell_type": "code",
      "metadata": {
        "id": "zRoDqfUBjet5",
        "colab_type": "code",
        "colab": {}
      },
      "source": [
        "def render_all(things, vmin=0, vmax=2, cmap='cool', show_max=True):\n",
        "  display_all = np.zeros([3,3*(len(things))])\n",
        "  for i, thing in enumerate(things):\n",
        "    if show_max:\n",
        "      print('make move: ', thing.argmax())\n",
        "    step = 3*i\n",
        "    display_all[:,step:step+3] = np.reshape(thing, [3,3])\n",
        "  plt.imshow(display_all, vmin=vmin, vmax=vmax, cmap=cmap)\n",
        "  plt.show()\n"
      ],
      "execution_count": 0,
      "outputs": []
    },
    {
      "cell_type": "code",
      "metadata": {
        "id": "nfKcoz4Hn2Xx",
        "colab_type": "code",
        "outputId": "844ef4ae-b628-48b7-9c4c-ef17622af5d3",
        "colab": {
          "base_uri": "https://localhost:8080/",
          "height": 269
        }
      },
      "source": [
        "game = XandOs()\n",
        "agent = Agent()\n",
        "game.render()"
      ],
      "execution_count": 307,
      "outputs": [
        {
          "output_type": "display_data",
          "data": {
            "image/png": "[encoded data removed]",
            "text/plain": [
              "<Figure size 432x288 with 2 Axes>"
            ]
          },
          "metadata": {
            "tags": []
          }
        }
      ]
    },
    {
      "cell_type": "code",
      "metadata": {
        "id": "kDnWC4ryte6-",
        "colab_type": "code",
        "colab": {}
      },
      "source": [
        "# agent.model.load_weights('winer_weights.keras')"
      ],
      "execution_count": 0,
      "outputs": []
    },
    {
      "cell_type": "code",
      "metadata": {
        "id": "eE7Un1NM25KK",
        "colab_type": "code",
        "outputId": "7a4d6e48-b640-4be2-bc1d-40609d89a2fe",
        "colab": {
          "base_uri": "https://localhost:8080/",
          "height": 353
        }
      },
      "source": [
        "agent.model.summary()"
      ],
      "execution_count": 58,
      "outputs": [
        {
          "output_type": "stream",
          "text": [
            "Model: \"sequential_2\"\n",
            "_________________________________________________________________\n",
            "Layer (type)                 Output Shape              Param #   \n",
            "=================================================================\n",
            "conv2d_3 (Conv2D)            (None, 3, 3, 8)           24        \n",
            "_________________________________________________________________\n",
            "conv2d_4 (Conv2D)            (None, 3, 3, 8)           584       \n",
            "_________________________________________________________________\n",
            "flatten_2 (Flatten)          (None, 72)                0         \n",
            "_________________________________________________________________\n",
            "dense_3 (Dense)              (None, 50)                3650      \n",
            "_________________________________________________________________\n",
            "dropout_2 (Dropout)          (None, 50)                0         \n",
            "_________________________________________________________________\n",
            "dense_4 (Dense)              (None, 9)                 459       \n",
            "=================================================================\n",
            "Total params: 4,717\n",
            "Trainable params: 4,717\n",
            "Non-trainable params: 0\n",
            "_________________________________________________________________\n"
          ],
          "name": "stdout"
        }
      ]
    },
    {
      "cell_type": "code",
      "metadata": {
        "id": "UnU5iMlkcgty",
        "colab_type": "code",
        "outputId": "ffb2ba9f-8bb0-467d-fc42-5e3963e74c85",
        "colab": {
          "base_uri": "https://localhost:8080/",
          "height": 269
        }
      },
      "source": [
        "move, pred = agent.decide_move(game.state)"
      ],
      "execution_count": 87,
      "outputs": [
        {
          "output_type": "display_data",
          "data": {
            "image/png": "[encoded data removed]",
            "text/plain": [
              "<Figure size 432x288 with 2 Axes>"
            ]
          },
          "metadata": {
            "tags": []
          }
        }
      ]
    },
    {
      "cell_type": "code",
      "metadata": {
        "id": "wc18BX5C_sAd",
        "colab_type": "code",
        "colab": {}
      },
      "source": [
        "from copy import deepcopy\n",
        "\n",
        "def apply_rewards(reward, predictions, decay = 0.5):\n",
        "  # copy and reverse (more reward applied to latest moves)\n",
        "  output = deepcopy(predictions)[::-1]\n",
        "  applied_reward = reward\n",
        "  for pred, move in output:\n",
        "    move_index =  np.unravel_index(move, pred.shape)\n",
        "    pred[ move_index ] = np.clip(pred[ move_index ] + applied_reward, 0, 1)\n",
        "    applied_reward *= decay\n",
        "  # un-reverse \n",
        "  return [o[0] for o in output[::-1]]"
      ],
      "execution_count": 0,
      "outputs": []
    },
    {
      "cell_type": "code",
      "metadata": {
        "id": "L5SuTyfwDbbA",
        "colab_type": "code",
        "colab": {}
      },
      "source": [
        "def get_states(memory):\n",
        "  return [m[0] for m in memory]\n",
        "\n",
        "def get_new_qs(memory):\n",
        "  return [m[1] for m in memory]\n",
        "\n",
        "def render_memory(memory):\n",
        "  states = get_states(memory)\n",
        "  updated = get_new_qs(memory)\n",
        "  current = [m[2][0] for m in memory]\n",
        "  print('states')\n",
        "  render_all(states)\n",
        "  print('current qs')\n",
        "  render_all(current)\n",
        "  print('upated qs')\n",
        "  render_all(updated)\n"
      ],
      "execution_count": 0,
      "outputs": []
    },
    {
      "cell_type": "code",
      "metadata": {
        "id": "6S8fhzd2Ei1O",
        "colab_type": "code",
        "colab": {}
      },
      "source": [
        "def agent_perf(agent, n= 100, show_lose=False):\n",
        "  game_scores = []\n",
        "  for i in range(n):\n",
        "    # play game\n",
        "    game = XandOs()\n",
        "    while not game.end:\n",
        "      move, pred = agent.decide_move(game.state, False)\n",
        "      predictions.append(pred)\n",
        "      _reward, _state, _end = game.step(move)\n",
        "    if show_lose:\n",
        "      if(_reward == -2):\n",
        "        render_all(np.array([h[0] for h in game.history] ) )\n",
        "    game_scores.append(_reward)\n",
        "  return np.mean(game_scores), game_scores"
      ],
      "execution_count": 0,
      "outputs": []
    },
    {
      "cell_type": "code",
      "metadata": {
        "id": "g6sxi8Qkz1AI",
        "colab_type": "code",
        "colab": {}
      },
      "source": [
        "memory = []\n",
        "EPSILON = 0.0\n",
        "\n",
        "for i in range(1000):\n",
        "\n",
        "  # print('NEW GAME')\n",
        "  game = XandOs()\n",
        "  predictions = []\n",
        "  while not game.end:\n",
        "    move, pred = agent.decide_move(game.state, False, valid_move=True)\n",
        "    if np.random.random() < EPSILON :\n",
        "      move = game.rand_agent_move(player = 1)\n",
        "    predictions.append([pred, move])\n",
        "    _reward, _state, _end = game.step(move)\n",
        "  # print(_reward)\n",
        "\n",
        "  if _reward == -3:\n",
        "    # invalid move reward\n",
        "    # strongly punish last move\n",
        "    updated_q = apply_rewards(_reward, predictions, decay=0)\n",
        "  else:\n",
        "    # valid move reward\n",
        "    # normally reward previous moves\n",
        "    updated_q = apply_rewards(_reward, predictions, decay=0.5)\n",
        "\n",
        "  states = [h[0] for h in game.history]\n",
        "\n",
        "  for j in range(len(updated_q)):\n",
        "    memory.append( [states[j], updated_q[j], predictions[j]])\n"
      ],
      "execution_count": 0,
      "outputs": []
    },
    {
      "cell_type": "code",
      "metadata": {
        "id": "kk-WI3b-ELhU",
        "colab_type": "code",
        "outputId": "db60de0d-83c5-407b-f282-746af2973c24",
        "colab": {
          "base_uri": "https://localhost:8080/",
          "height": 763
        }
      },
      "source": [
        "render_memory(memory[-10:])"
      ],
      "execution_count": 331,
      "outputs": [
        {
          "output_type": "stream",
          "text": [
            "states\n",
            "make move:  0\n",
            "make move:  6\n",
            "make move:  1\n",
            "make move:  0\n",
            "make move:  2\n",
            "make move:  0\n",
            "make move:  0\n",
            "make move:  0\n",
            "make move:  0\n",
            "make move:  0\n"
          ],
          "name": "stdout"
        },
        {
          "output_type": "display_data",
          "data": {
            "image/png": "[encoded data removed]",
            "text/plain": [
              "<Figure size 432x288 with 1 Axes>"
            ]
          },
          "metadata": {
            "tags": []
          }
        },
        {
          "output_type": "stream",
          "text": [
            "current qs\n",
            "make move:  4\n",
            "make move:  0\n",
            "make move:  8\n",
            "make move:  4\n",
            "make move:  5\n",
            "make move:  3\n",
            "make move:  4\n",
            "make move:  6\n",
            "make move:  1\n",
            "make move:  7\n"
          ],
          "name": "stdout"
        },
        {
          "output_type": "display_data",
          "data": {
            "image/png": "[encoded data removed]",
            "text/plain": [
              "<Figure size 432x288 with 1 Axes>"
            ]
          },
          "metadata": {
            "tags": []
          }
        },
        {
          "output_type": "stream",
          "text": [
            "upated qs\n",
            "make move:  4\n",
            "make move:  0\n",
            "make move:  8\n",
            "make move:  4\n",
            "make move:  5\n",
            "make move:  3\n",
            "make move:  4\n",
            "make move:  6\n",
            "make move:  1\n",
            "make move:  7\n"
          ],
          "name": "stdout"
        },
        {
          "output_type": "display_data",
          "data": {
            "image/png": "[encoded data removed]",
            "text/plain": [
              "<Figure size 432x288 with 1 Axes>"
            ]
          },
          "metadata": {
            "tags": []
          }
        }
      ]
    },
    {
      "cell_type": "code",
      "metadata": {
        "id": "cFYEAUPBGREe",
        "colab_type": "code",
        "colab": {
          "base_uri": "https://localhost:8080/",
          "height": 50
        },
        "outputId": "3054365f-b2d8-4252-9021-04dceb638dc9"
      },
      "source": [
        "\n",
        "moves = [p[2][0] for p in memory]\n",
        "moves_np = np.squeeze(np.array(moves).sum(axis=1))\n",
        "moves_np.shape\n",
        "\n",
        "\n",
        "_X = np.array(get_states(memory))\n",
        "X = np.zeros([*_X.shape,2])\n",
        "X[:,:,:,0] = (_X == 1)\n",
        "X[:,:,:,1] = (_X == 2)\n",
        "y = np.squeeze(np.array(get_new_qs(memory)))\n",
        "\n",
        "y_sum = y.sum(axis=1)\n",
        "\n",
        "pos = (y_sum > moves_np)\n",
        "\n",
        "positive_rewards = pos.sum()\n",
        "negative_rewards = (~pos).sum()\n",
        "print('{} positive change, {} negative change'.format(positive_rewards ,negative_rewards))\n",
        "\n",
        "\n",
        "pos_weight =  negative_rewards/len(y)\n",
        "neg_weight =  positive_rewards/len(y)\n",
        "\n",
        "weights = np.zeros(len(y))\n",
        "weights[pos] =  0.05 #pos_weight\n",
        "weights[~pos] = 0.9 # neg_weight\n",
        "pos_weight,neg_weight"
      ],
      "execution_count": 332,
      "outputs": [
        {
          "output_type": "stream",
          "text": [
            "2614 positive change, 582 negative change\n"
          ],
          "name": "stdout"
        },
        {
          "output_type": "execute_result",
          "data": {
            "text/plain": [
              "(0.1821026282853567, 0.8178973717146433)"
            ]
          },
          "metadata": {
            "tags": []
          },
          "execution_count": 332
        }
      ]
    },
    {
      "cell_type": "code",
      "metadata": {
        "id": "mK10c7tBpxDT",
        "colab_type": "code",
        "colab": {}
      },
      "source": [
        ""
      ],
      "execution_count": 0,
      "outputs": []
    },
    {
      "cell_type": "code",
      "metadata": {
        "id": "TggbFTPFGtKp",
        "colab_type": "code",
        "outputId": "d5c7f755-54ad-4036-fad0-6dccde6bbb13",
        "colab": {
          "base_uri": "https://localhost:8080/",
          "height": 34
        }
      },
      "source": [
        "X.shape, y.shape"
      ],
      "execution_count": 333,
      "outputs": [
        {
          "output_type": "execute_result",
          "data": {
            "text/plain": [
              "((3196, 3, 3, 2), (3196, 9))"
            ]
          },
          "metadata": {
            "tags": []
          },
          "execution_count": 333
        }
      ]
    },
    {
      "cell_type": "code",
      "metadata": {
        "id": "Jy8o3j_GKi0p",
        "colab_type": "code",
        "outputId": "97f63215-df5d-41a9-fa8c-5232adeb8358",
        "colab": {
          "base_uri": "https://localhost:8080/",
          "height": 1000
        }
      },
      "source": [
        "# uncomment end of line for losing game inspector\n",
        "mean, scores = agent_perf(agent,n=1000) #, show_lose=True)\n",
        "plt.plot(sorted(scores))\n",
        "plt.ylim(-3,1)\n",
        "plt.show()\n",
        "mean"
      ],
      "execution_count": 327,
      "outputs": [
        {
          "output_type": "stream",
          "text": [
            "make move:  0\n",
            "make move:  6\n",
            "make move:  6\n"
          ],
          "name": "stdout"
        },
        {
          "output_type": "display_data",
          "data": {
            "image/png": "[encoded data removed]",
            "text/plain": [
              "<Figure size 432x288 with 1 Axes>"
            ]
          },
          "metadata": {
            "tags": []
          }
        },
        {
          "output_type": "stream",
          "text": [
            "make move:  0\n",
            "make move:  6\n",
            "make move:  6\n"
          ],
          "name": "stdout"
        },
        {
          "output_type": "display_data",
          "data": {
            "image/png": "[encoded data removed]",
            "text/plain": [
              "<Figure size 432x288 with 1 Axes>"
            ]
          },
          "metadata": {
            "tags": []
          }
        },
        {
          "output_type": "stream",
          "text": [
            "make move:  0\n",
            "make move:  6\n",
            "make move:  6\n"
          ],
          "name": "stdout"
        },
        {
          "output_type": "display_data",
          "data": {
            "image/png": "[encoded data removed]",
            "text/plain": [
              "<Figure size 432x288 with 1 Axes>"
            ]
          },
          "metadata": {
            "tags": []
          }
        },
        {
          "output_type": "stream",
          "text": [
            "make move:  0\n",
            "make move:  6\n",
            "make move:  6\n"
          ],
          "name": "stdout"
        },
        {
          "output_type": "display_data",
          "data": {
            "image/png": "[encoded data removed]",
            "text/plain": [
              "<Figure size 432x288 with 1 Axes>"
            ]
          },
          "metadata": {
            "tags": []
          }
        },
        {
          "output_type": "stream",
          "text": [
            "make move:  0\n",
            "make move:  6\n",
            "make move:  6\n"
          ],
          "name": "stdout"
        },
        {
          "output_type": "display_data",
          "data": {
            "image/png": "[encoded data removed]",
            "text/plain": [
              "<Figure size 432x288 with 1 Axes>"
            ]
          },
          "metadata": {
            "tags": []
          }
        },
        {
          "output_type": "stream",
          "text": [
            "make move:  0\n",
            "make move:  6\n",
            "make move:  6\n"
          ],
          "name": "stdout"
        },
        {
          "output_type": "display_data",
          "data": {
            "image/png": "[encoded data removed]",
            "text/plain": [
              "<Figure size 432x288 with 1 Axes>"
            ]
          },
          "metadata": {
            "tags": []
          }
        },
        {
          "output_type": "stream",
          "text": [
            "make move:  0\n",
            "make move:  6\n",
            "make move:  6\n"
          ],
          "name": "stdout"
        },
        {
          "output_type": "display_data",
          "data": {
            "image/png": "[encoded data removed]",
            "text/plain": [
              "<Figure size 432x288 with 1 Axes>"
            ]
          },
          "metadata": {
            "tags": []
          }
        },
        {
          "output_type": "stream",
          "text": [
            "make move:  0\n",
            "make move:  6\n",
            "make move:  6\n"
          ],
          "name": "stdout"
        },
        {
          "output_type": "display_data",
          "data": {
            "image/png": "[encoded data removed]",
            "text/plain": [
              "<Figure size 432x288 with 1 Axes>"
            ]
          },
          "metadata": {
            "tags": []
          }
        },
        {
          "output_type": "stream",
          "text": [
            "make move:  0\n",
            "make move:  6\n",
            "make move:  6\n"
          ],
          "name": "stdout"
        },
        {
          "output_type": "display_data",
          "data": {
            "image/png": "[encoded data removed]",
            "text/plain": [
              "<Figure size 432x288 with 1 Axes>"
            ]
          },
          "metadata": {
            "tags": []
          }
        },
        {
          "output_type": "stream",
          "text": [
            "make move:  0\n",
            "make move:  6\n",
            "make move:  6\n"
          ],
          "name": "stdout"
        },
        {
          "output_type": "display_data",
          "data": {
            "image/png": "[encoded data removed]",
            "text/plain": [
              "<Figure size 432x288 with 1 Axes>"
            ]
          },
          "metadata": {
            "tags": []
          }
        },
        {
          "output_type": "stream",
          "text": [
            "make move:  0\n",
            "make move:  6\n",
            "make move:  6\n"
          ],
          "name": "stdout"
        },
        {
          "output_type": "display_data",
          "data": {
            "image/png": "[encoded data removed]",
            "text/plain": [
              "<Figure size 432x288 with 1 Axes>"
            ]
          },
          "metadata": {
            "tags": []
          }
        },
        {
          "output_type": "stream",
          "text": [
            "make move:  0\n",
            "make move:  6\n",
            "make move:  6\n"
          ],
          "name": "stdout"
        },
        {
          "output_type": "display_data",
          "data": {
            "image/png": "[encoded data removed]",
            "text/plain": [
              "<Figure size 432x288 with 1 Axes>"
            ]
          },
          "metadata": {
            "tags": []
          }
        },
        {
          "output_type": "stream",
          "text": [
            "make move:  0\n",
            "make move:  6\n",
            "make move:  6\n"
          ],
          "name": "stdout"
        },
        {
          "output_type": "display_data",
          "data": {
            "image/png": "[encoded data removed]",
            "text/plain": [
              "<Figure size 432x288 with 1 Axes>"
            ]
          },
          "metadata": {
            "tags": []
          }
        },
        {
          "output_type": "stream",
          "text": [
            "make move:  0\n",
            "make move:  6\n",
            "make move:  6\n"
          ],
          "name": "stdout"
        },
        {
          "output_type": "display_data",
          "data": {
            "image/png": "[encoded data removed]",
            "text/plain": [
              "<Figure size 432x288 with 1 Axes>"
            ]
          },
          "metadata": {
            "tags": []
          }
        },
        {
          "output_type": "stream",
          "text": [
            "make move:  0\n",
            "make move:  6\n",
            "make move:  6\n"
          ],
          "name": "stdout"
        },
        {
          "output_type": "display_data",
          "data": {
            "image/png": "[encoded data removed]",
            "text/plain": [
              "<Figure size 432x288 with 1 Axes>"
            ]
          },
          "metadata": {
            "tags": []
          }
        },
        {
          "output_type": "stream",
          "text": [
            "make move:  0\n",
            "make move:  6\n",
            "make move:  6\n"
          ],
          "name": "stdout"
        },
        {
          "output_type": "display_data",
          "data": {
            "image/png": "[encoded data removed]",
            "text/plain": [
              "<Figure size 432x288 with 1 Axes>"
            ]
          },
          "metadata": {
            "tags": []
          }
        },
        {
          "output_type": "stream",
          "text": [
            "make move:  0\n",
            "make move:  6\n",
            "make move:  6\n"
          ],
          "name": "stdout"
        },
        {
          "output_type": "display_data",
          "data": {
            "image/png": "[encoded data removed]",
            "text/plain": [
              "<Figure size 432x288 with 1 Axes>"
            ]
          },
          "metadata": {
            "tags": []
          }
        },
        {
          "output_type": "stream",
          "text": [
            "make move:  0\n",
            "make move:  6\n",
            "make move:  6\n"
          ],
          "name": "stdout"
        },
        {
          "output_type": "display_data",
          "data": {
            "image/png": "[encoded data removed]",
            "text/plain": [
              "<Figure size 432x288 with 1 Axes>"
            ]
          },
          "metadata": {
            "tags": []
          }
        },
        {
          "output_type": "stream",
          "text": [
            "make move:  0\n",
            "make move:  6\n",
            "make move:  6\n"
          ],
          "name": "stdout"
        },
        {
          "output_type": "display_data",
          "data": {
            "image/png": "[encoded data removed]",
            "text/plain": [
              "<Figure size 432x288 with 1 Axes>"
            ]
          },
          "metadata": {
            "tags": []
          }
        },
        {
          "output_type": "stream",
          "text": [
            "make move:  0\n",
            "make move:  6\n",
            "make move:  6\n"
          ],
          "name": "stdout"
        },
        {
          "output_type": "display_data",
          "data": {
            "image/png": "[encoded data removed]",
            "text/plain": [
              "<Figure size 432x288 with 1 Axes>"
            ]
          },
          "metadata": {
            "tags": []
          }
        },
        {
          "output_type": "stream",
          "text": [
            "make move:  0\n",
            "make move:  6\n",
            "make move:  6\n"
          ],
          "name": "stdout"
        },
        {
          "output_type": "display_data",
          "data": {
            "image/png": "[encoded data removed]",
            "text/plain": [
              "<Figure size 432x288 with 1 Axes>"
            ]
          },
          "metadata": {
            "tags": []
          }
        },
        {
          "output_type": "stream",
          "text": [
            "make move:  0\n",
            "make move:  6\n",
            "make move:  6\n"
          ],
          "name": "stdout"
        },
        {
          "output_type": "display_data",
          "data": {
            "image/png": "[encoded data removed]",
            "text/plain": [
              "<Figure size 432x288 with 1 Axes>"
            ]
          },
          "metadata": {
            "tags": []
          }
        },
        {
          "output_type": "stream",
          "text": [
            "make move:  0\n",
            "make move:  6\n",
            "make move:  6\n"
          ],
          "name": "stdout"
        },
        {
          "output_type": "display_data",
          "data": {
            "image/png": "[encoded data removed]",
            "text/plain": [
              "<Figure size 432x288 with 1 Axes>"
            ]
          },
          "metadata": {
            "tags": []
          }
        },
        {
          "output_type": "stream",
          "text": [
            "make move:  0\n",
            "make move:  6\n",
            "make move:  6\n"
          ],
          "name": "stdout"
        },
        {
          "output_type": "display_data",
          "data": {
            "image/png": "[encoded data removed]",
            "text/plain": [
              "<Figure size 432x288 with 1 Axes>"
            ]
          },
          "metadata": {
            "tags": []
          }
        },
        {
          "output_type": "display_data",
          "data": {
            "image/png": "[encoded data removed]",
            "text/plain": [
              "<Figure size 432x288 with 1 Axes>"
            ]
          },
          "metadata": {
            "tags": []
          }
        },
        {
          "output_type": "execute_result",
          "data": {
            "text/plain": [
              "0.919"
            ]
          },
          "metadata": {
            "tags": []
          },
          "execution_count": 327
        }
      ]
    },
    {
      "cell_type": "code",
      "metadata": {
        "id": "O4dfe2vsG3J2",
        "colab_type": "code",
        "outputId": "8323062a-ea18-4cf7-e4a8-fd586bb48438",
        "colab": {
          "base_uri": "https://localhost:8080/",
          "height": 1000
        }
      },
      "source": [
        "hist = agent.model.fit(X, y, epochs=200, verbose=1, batch_size=64), #sample_weight=weights)"
      ],
      "execution_count": 334,
      "outputs": [
        {
          "output_type": "stream",
          "text": [
            "Epoch 1/200\n",
            "3196/3196 [==============================] - 0s 87us/step - loss: 0.4443\n",
            "Epoch 2/200\n",
            "3196/3196 [==============================] - 0s 81us/step - loss: 0.4433\n",
            "Epoch 3/200\n",
            "3196/3196 [==============================] - 0s 67us/step - loss: 0.4434\n",
            "Epoch 4/200\n",
            "3196/3196 [==============================] - 0s 63us/step - loss: 0.4433\n",
            "Epoch 5/200\n",
            "3196/3196 [==============================] - 0s 62us/step - loss: 0.4431\n",
            "Epoch 6/200\n",
            "3196/3196 [==============================] - 0s 61us/step - loss: 0.4431\n",
            "Epoch 7/200\n",
            "3196/3196 [==============================] - 0s 64us/step - loss: 0.4429\n",
            "Epoch 8/200\n",
            "3196/3196 [==============================] - 0s 75us/step - loss: 0.4430\n",
            "Epoch 9/200\n",
            "3196/3196 [==============================] - 0s 65us/step - loss: 0.4428\n",
            "Epoch 10/200\n",
            "3196/3196 [==============================] - 0s 61us/step - loss: 0.4427\n",
            "Epoch 11/200\n",
            "3196/3196 [==============================] - 0s 60us/step - loss: 0.4429\n",
            "Epoch 12/200\n",
            "3196/3196 [==============================] - 0s 64us/step - loss: 0.4427\n",
            "Epoch 13/200\n",
            "3196/3196 [==============================] - 0s 70us/step - loss: 0.4428\n",
            "Epoch 14/200\n",
            "3196/3196 [==============================] - 0s 64us/step - loss: 0.4430\n",
            "Epoch 15/200\n",
            "3196/3196 [==============================] - 0s 60us/step - loss: 0.4426\n",
            "Epoch 16/200\n",
            "3196/3196 [==============================] - 0s 62us/step - loss: 0.4428\n",
            "Epoch 17/200\n",
            "3196/3196 [==============================] - 0s 66us/step - loss: 0.4431\n",
            "Epoch 18/200\n",
            "3196/3196 [==============================] - 0s 83us/step - loss: 0.4429\n",
            "Epoch 19/200\n",
            "3196/3196 [==============================] - 0s 79us/step - loss: 0.4427\n",
            "Epoch 20/200\n",
            "3196/3196 [==============================] - 0s 80us/step - loss: 0.4425\n",
            "Epoch 21/200\n",
            "3196/3196 [==============================] - 0s 75us/step - loss: 0.4424\n",
            "Epoch 22/200\n",
            "3196/3196 [==============================] - 0s 74us/step - loss: 0.4426\n",
            "Epoch 23/200\n",
            "3196/3196 [==============================] - 0s 81us/step - loss: 0.4424\n",
            "Epoch 24/200\n",
            "3196/3196 [==============================] - 0s 78us/step - loss: 0.4425\n",
            "Epoch 25/200\n",
            "3196/3196 [==============================] - 0s 74us/step - loss: 0.4424\n",
            "Epoch 26/200\n",
            "3196/3196 [==============================] - 0s 63us/step - loss: 0.4425\n",
            "Epoch 27/200\n",
            "3196/3196 [==============================] - 0s 82us/step - loss: 0.4424\n",
            "Epoch 28/200\n",
            "3196/3196 [==============================] - 0s 78us/step - loss: 0.4422\n",
            "Epoch 29/200\n",
            "3196/3196 [==============================] - 0s 76us/step - loss: 0.4425\n",
            "Epoch 30/200\n",
            "3196/3196 [==============================] - 0s 63us/step - loss: 0.4424\n",
            "Epoch 31/200\n",
            "3196/3196 [==============================] - 0s 74us/step - loss: 0.4423\n",
            "Epoch 32/200\n",
            "3196/3196 [==============================] - 0s 83us/step - loss: 0.4425\n",
            "Epoch 33/200\n",
            "3196/3196 [==============================] - 0s 79us/step - loss: 0.4423\n",
            "Epoch 34/200\n",
            "3196/3196 [==============================] - 0s 66us/step - loss: 0.4424\n",
            "Epoch 35/200\n",
            "3196/3196 [==============================] - 0s 83us/step - loss: 0.4423\n",
            "Epoch 36/200\n",
            "3196/3196 [==============================] - 0s 82us/step - loss: 0.4424\n",
            "Epoch 37/200\n",
            "3196/3196 [==============================] - 0s 83us/step - loss: 0.4428\n",
            "Epoch 38/200\n",
            "3196/3196 [==============================] - 0s 72us/step - loss: 0.4423\n",
            "Epoch 39/200\n",
            "3196/3196 [==============================] - 0s 82us/step - loss: 0.4423\n",
            "Epoch 40/200\n",
            "3196/3196 [==============================] - 0s 80us/step - loss: 0.4424\n",
            "Epoch 41/200\n",
            "3196/3196 [==============================] - 0s 83us/step - loss: 0.4423\n",
            "Epoch 42/200\n",
            "3196/3196 [==============================] - 0s 76us/step - loss: 0.4423\n",
            "Epoch 43/200\n",
            "3196/3196 [==============================] - 0s 63us/step - loss: 0.4423\n",
            "Epoch 44/200\n",
            "3196/3196 [==============================] - 0s 79us/step - loss: 0.4422\n",
            "Epoch 45/200\n",
            "3196/3196 [==============================] - 0s 78us/step - loss: 0.4422\n",
            "Epoch 46/200\n",
            "3196/3196 [==============================] - 0s 72us/step - loss: 0.4423\n",
            "Epoch 47/200\n",
            "3196/3196 [==============================] - 0s 60us/step - loss: 0.4424\n",
            "Epoch 48/200\n",
            "3196/3196 [==============================] - 0s 66us/step - loss: 0.4425\n",
            "Epoch 49/200\n",
            "3196/3196 [==============================] - 0s 82us/step - loss: 0.4421\n",
            "Epoch 50/200\n",
            "3196/3196 [==============================] - 0s 82us/step - loss: 0.4422\n",
            "Epoch 51/200\n",
            "3196/3196 [==============================] - 0s 64us/step - loss: 0.4424\n",
            "Epoch 52/200\n",
            "3196/3196 [==============================] - 0s 70us/step - loss: 0.4423\n",
            "Epoch 53/200\n",
            "3196/3196 [==============================] - 0s 84us/step - loss: 0.4422\n",
            "Epoch 54/200\n",
            "3196/3196 [==============================] - 0s 73us/step - loss: 0.4423\n",
            "Epoch 55/200\n",
            "3196/3196 [==============================] - 0s 73us/step - loss: 0.4428\n",
            "Epoch 56/200\n",
            "3196/3196 [==============================] - 0s 86us/step - loss: 0.4424\n",
            "Epoch 57/200\n",
            "3196/3196 [==============================] - 0s 82us/step - loss: 0.4425\n",
            "Epoch 58/200\n",
            "3196/3196 [==============================] - 0s 76us/step - loss: 0.4423\n",
            "Epoch 59/200\n",
            "3196/3196 [==============================] - 0s 62us/step - loss: 0.4424\n",
            "Epoch 60/200\n",
            "3196/3196 [==============================] - 0s 72us/step - loss: 0.4425\n",
            "Epoch 61/200\n",
            "3196/3196 [==============================] - 0s 71us/step - loss: 0.4422\n",
            "Epoch 62/200\n",
            "3196/3196 [==============================] - 0s 81us/step - loss: 0.4425\n",
            "Epoch 63/200\n",
            "3196/3196 [==============================] - 0s 65us/step - loss: 0.4424\n",
            "Epoch 64/200\n",
            "3196/3196 [==============================] - 0s 62us/step - loss: 0.4422\n",
            "Epoch 65/200\n",
            "3196/3196 [==============================] - 0s 64us/step - loss: 0.4425\n",
            "Epoch 66/200\n",
            "3196/3196 [==============================] - 0s 66us/step - loss: 0.4422\n",
            "Epoch 67/200\n",
            "3196/3196 [==============================] - 0s 81us/step - loss: 0.4426\n",
            "Epoch 68/200\n",
            "3196/3196 [==============================] - 0s 65us/step - loss: 0.4423\n",
            "Epoch 69/200\n",
            "3196/3196 [==============================] - 0s 62us/step - loss: 0.4425\n",
            "Epoch 70/200\n",
            "3196/3196 [==============================] - 0s 66us/step - loss: 0.4425\n",
            "Epoch 71/200\n",
            "3196/3196 [==============================] - 0s 68us/step - loss: 0.4427\n",
            "Epoch 72/200\n",
            "3196/3196 [==============================] - 0s 70us/step - loss: 0.4424\n",
            "Epoch 73/200\n",
            "3196/3196 [==============================] - 0s 62us/step - loss: 0.4424\n",
            "Epoch 74/200\n",
            "3196/3196 [==============================] - 0s 79us/step - loss: 0.4426\n",
            "Epoch 75/200\n",
            "3196/3196 [==============================] - 0s 83us/step - loss: 0.4422\n",
            "Epoch 76/200\n",
            "3196/3196 [==============================] - 0s 81us/step - loss: 0.4422\n",
            "Epoch 77/200\n",
            "3196/3196 [==============================] - 0s 65us/step - loss: 0.4422\n",
            "Epoch 78/200\n",
            "3196/3196 [==============================] - 0s 60us/step - loss: 0.4425\n",
            "Epoch 79/200\n",
            "3196/3196 [==============================] - 0s 83us/step - loss: 0.4422\n",
            "Epoch 80/200\n",
            "3196/3196 [==============================] - 0s 74us/step - loss: 0.4423\n",
            "Epoch 81/200\n",
            "3196/3196 [==============================] - 0s 64us/step - loss: 0.4422\n",
            "Epoch 82/200\n",
            "3196/3196 [==============================] - 0s 61us/step - loss: 0.4424\n",
            "Epoch 83/200\n",
            "3196/3196 [==============================] - 0s 72us/step - loss: 0.4423\n",
            "Epoch 84/200\n",
            "3196/3196 [==============================] - 0s 81us/step - loss: 0.4422\n",
            "Epoch 85/200\n",
            "3196/3196 [==============================] - 0s 70us/step - loss: 0.4423\n",
            "Epoch 86/200\n",
            "3196/3196 [==============================] - 0s 72us/step - loss: 0.4423\n",
            "Epoch 87/200\n",
            "3196/3196 [==============================] - 0s 81us/step - loss: 0.4421\n",
            "Epoch 88/200\n",
            "3196/3196 [==============================] - 0s 77us/step - loss: 0.4423\n",
            "Epoch 89/200\n",
            "3196/3196 [==============================] - 0s 77us/step - loss: 0.4425\n",
            "Epoch 90/200\n",
            "3196/3196 [==============================] - 0s 86us/step - loss: 0.4423\n",
            "Epoch 91/200\n",
            "3196/3196 [==============================] - 0s 85us/step - loss: 0.4420\n",
            "Epoch 92/200\n",
            "3196/3196 [==============================] - 0s 79us/step - loss: 0.4423\n",
            "Epoch 93/200\n",
            "3196/3196 [==============================] - 0s 76us/step - loss: 0.4421\n",
            "Epoch 94/200\n",
            "3196/3196 [==============================] - 0s 63us/step - loss: 0.4422\n",
            "Epoch 95/200\n",
            "3196/3196 [==============================] - 0s 60us/step - loss: 0.4423\n",
            "Epoch 96/200\n",
            "3196/3196 [==============================] - 0s 65us/step - loss: 0.4425\n",
            "Epoch 97/200\n",
            "3196/3196 [==============================] - 0s 61us/step - loss: 0.4423\n",
            "Epoch 98/200\n",
            "3196/3196 [==============================] - 0s 72us/step - loss: 0.4424\n",
            "Epoch 99/200\n",
            "3196/3196 [==============================] - 0s 83us/step - loss: 0.4425\n",
            "Epoch 100/200\n",
            "3196/3196 [==============================] - 0s 83us/step - loss: 0.4422\n",
            "Epoch 101/200\n",
            "3196/3196 [==============================] - 0s 80us/step - loss: 0.4424\n",
            "Epoch 102/200\n",
            "3196/3196 [==============================] - 0s 60us/step - loss: 0.4425\n",
            "Epoch 103/200\n",
            "3196/3196 [==============================] - 0s 77us/step - loss: 0.4422\n",
            "Epoch 104/200\n",
            "3196/3196 [==============================] - 0s 90us/step - loss: 0.4423\n",
            "Epoch 105/200\n",
            "3196/3196 [==============================] - 0s 78us/step - loss: 0.4421\n",
            "Epoch 106/200\n",
            "3196/3196 [==============================] - 0s 64us/step - loss: 0.4423\n",
            "Epoch 107/200\n",
            "3196/3196 [==============================] - 0s 75us/step - loss: 0.4421\n",
            "Epoch 108/200\n",
            "3196/3196 [==============================] - 0s 77us/step - loss: 0.4424\n",
            "Epoch 109/200\n",
            "3196/3196 [==============================] - 0s 91us/step - loss: 0.4424\n",
            "Epoch 110/200\n",
            "3196/3196 [==============================] - 0s 71us/step - loss: 0.4423\n",
            "Epoch 111/200\n",
            "3196/3196 [==============================] - 0s 68us/step - loss: 0.4427\n",
            "Epoch 112/200\n",
            "3196/3196 [==============================] - 0s 79us/step - loss: 0.4423\n",
            "Epoch 113/200\n",
            "3196/3196 [==============================] - 0s 85us/step - loss: 0.4421\n",
            "Epoch 114/200\n",
            "3196/3196 [==============================] - 0s 67us/step - loss: 0.4421\n",
            "Epoch 115/200\n",
            "3196/3196 [==============================] - 0s 60us/step - loss: 0.4421\n",
            "Epoch 116/200\n",
            "3196/3196 [==============================] - 0s 76us/step - loss: 0.4421\n",
            "Epoch 117/200\n",
            "3196/3196 [==============================] - 0s 85us/step - loss: 0.4423\n",
            "Epoch 118/200\n",
            "3196/3196 [==============================] - 0s 79us/step - loss: 0.4423\n",
            "Epoch 119/200\n",
            "3196/3196 [==============================] - 0s 72us/step - loss: 0.4422\n",
            "Epoch 120/200\n",
            "3196/3196 [==============================] - 0s 72us/step - loss: 0.4422\n",
            "Epoch 121/200\n",
            "3196/3196 [==============================] - 0s 84us/step - loss: 0.4426\n",
            "Epoch 122/200\n",
            "3196/3196 [==============================] - 0s 72us/step - loss: 0.4425\n",
            "Epoch 123/200\n",
            "3196/3196 [==============================] - 0s 61us/step - loss: 0.4424\n",
            "Epoch 124/200\n",
            "3196/3196 [==============================] - 0s 59us/step - loss: 0.4423\n",
            "Epoch 125/200\n",
            "3196/3196 [==============================] - 0s 77us/step - loss: 0.4424\n",
            "Epoch 126/200\n",
            "3196/3196 [==============================] - 0s 90us/step - loss: 0.4423\n",
            "Epoch 127/200\n",
            "3196/3196 [==============================] - 0s 76us/step - loss: 0.4424\n",
            "Epoch 128/200\n",
            "3196/3196 [==============================] - 0s 62us/step - loss: 0.4420\n",
            "Epoch 129/200\n",
            "3196/3196 [==============================] - 0s 72us/step - loss: 0.4422\n",
            "Epoch 130/200\n",
            "3196/3196 [==============================] - 0s 87us/step - loss: 0.4422\n",
            "Epoch 131/200\n",
            "3196/3196 [==============================] - 0s 64us/step - loss: 0.4422\n",
            "Epoch 132/200\n",
            "3196/3196 [==============================] - 0s 64us/step - loss: 0.4422\n",
            "Epoch 133/200\n",
            "3196/3196 [==============================] - 0s 60us/step - loss: 0.4422\n",
            "Epoch 134/200\n",
            "3196/3196 [==============================] - 0s 80us/step - loss: 0.4422\n",
            "Epoch 135/200\n",
            "3196/3196 [==============================] - 0s 84us/step - loss: 0.4422\n",
            "Epoch 136/200\n",
            "3196/3196 [==============================] - 0s 67us/step - loss: 0.4422\n",
            "Epoch 137/200\n",
            "3196/3196 [==============================] - 0s 63us/step - loss: 0.4422\n",
            "Epoch 138/200\n",
            "3196/3196 [==============================] - 0s 65us/step - loss: 0.4422\n",
            "Epoch 139/200\n",
            "3196/3196 [==============================] - 0s 83us/step - loss: 0.4424\n",
            "Epoch 140/200\n",
            "3196/3196 [==============================] - 0s 62us/step - loss: 0.4422\n",
            "Epoch 141/200\n",
            "3196/3196 [==============================] - 0s 64us/step - loss: 0.4421\n",
            "Epoch 142/200\n",
            "3196/3196 [==============================] - 0s 62us/step - loss: 0.4422\n",
            "Epoch 143/200\n",
            "3196/3196 [==============================] - 0s 74us/step - loss: 0.4428\n",
            "Epoch 144/200\n",
            "3196/3196 [==============================] - 0s 107us/step - loss: 0.4423\n",
            "Epoch 145/200\n",
            "3196/3196 [==============================] - 0s 94us/step - loss: 0.4422\n",
            "Epoch 146/200\n",
            "3196/3196 [==============================] - 0s 80us/step - loss: 0.4425\n",
            "Epoch 147/200\n",
            "3196/3196 [==============================] - 0s 88us/step - loss: 0.4424\n",
            "Epoch 148/200\n",
            "3196/3196 [==============================] - 0s 63us/step - loss: 0.4424\n",
            "Epoch 149/200\n",
            "3196/3196 [==============================] - 0s 63us/step - loss: 0.4423\n",
            "Epoch 150/200\n",
            "3196/3196 [==============================] - 0s 77us/step - loss: 0.4425\n",
            "Epoch 151/200\n",
            "3196/3196 [==============================] - 0s 83us/step - loss: 0.4423\n",
            "Epoch 152/200\n",
            "3196/3196 [==============================] - 0s 81us/step - loss: 0.4423\n",
            "Epoch 153/200\n",
            "3196/3196 [==============================] - 0s 76us/step - loss: 0.4425\n",
            "Epoch 154/200\n",
            "3196/3196 [==============================] - 0s 82us/step - loss: 0.4428\n",
            "Epoch 155/200\n",
            "3196/3196 [==============================] - 0s 82us/step - loss: 0.4427\n",
            "Epoch 156/200\n",
            "3196/3196 [==============================] - 0s 68us/step - loss: 0.4426\n",
            "Epoch 157/200\n",
            "3196/3196 [==============================] - 0s 64us/step - loss: 0.4425\n",
            "Epoch 158/200\n",
            "3196/3196 [==============================] - 0s 73us/step - loss: 0.4424\n",
            "Epoch 159/200\n",
            "3196/3196 [==============================] - 0s 84us/step - loss: 0.4423\n",
            "Epoch 160/200\n",
            "3196/3196 [==============================] - 0s 82us/step - loss: 0.4424\n",
            "Epoch 161/200\n",
            "3196/3196 [==============================] - 0s 74us/step - loss: 0.4423\n",
            "Epoch 162/200\n",
            "3196/3196 [==============================] - 0s 78us/step - loss: 0.4422\n",
            "Epoch 163/200\n",
            "3196/3196 [==============================] - 0s 79us/step - loss: 0.4423\n",
            "Epoch 164/200\n",
            "3196/3196 [==============================] - 0s 83us/step - loss: 0.4421\n",
            "Epoch 165/200\n",
            "3196/3196 [==============================] - 0s 64us/step - loss: 0.4423\n",
            "Epoch 166/200\n",
            "3196/3196 [==============================] - 0s 86us/step - loss: 0.4423\n",
            "Epoch 167/200\n",
            "3196/3196 [==============================] - 0s 81us/step - loss: 0.4420\n",
            "Epoch 168/200\n",
            "3196/3196 [==============================] - 0s 89us/step - loss: 0.4424\n",
            "Epoch 169/200\n",
            "3196/3196 [==============================] - 0s 80us/step - loss: 0.4425\n",
            "Epoch 170/200\n",
            "3196/3196 [==============================] - 0s 80us/step - loss: 0.4421\n",
            "Epoch 171/200\n",
            "3196/3196 [==============================] - 0s 79us/step - loss: 0.4422\n",
            "Epoch 172/200\n",
            "3196/3196 [==============================] - 0s 85us/step - loss: 0.4422\n",
            "Epoch 173/200\n",
            "3196/3196 [==============================] - 0s 80us/step - loss: 0.4422\n",
            "Epoch 174/200\n",
            "3196/3196 [==============================] - 0s 81us/step - loss: 0.4423\n",
            "Epoch 175/200\n",
            "3196/3196 [==============================] - 0s 82us/step - loss: 0.4424\n",
            "Epoch 176/200\n",
            "3196/3196 [==============================] - 0s 80us/step - loss: 0.4425\n",
            "Epoch 177/200\n",
            "3196/3196 [==============================] - 0s 60us/step - loss: 0.4422\n",
            "Epoch 178/200\n",
            "3196/3196 [==============================] - 0s 81us/step - loss: 0.4422\n",
            "Epoch 179/200\n",
            "3196/3196 [==============================] - 0s 79us/step - loss: 0.4422\n",
            "Epoch 180/200\n",
            "3196/3196 [==============================] - 0s 68us/step - loss: 0.4423\n",
            "Epoch 181/200\n",
            "3196/3196 [==============================] - 0s 85us/step - loss: 0.4424\n",
            "Epoch 182/200\n",
            "3196/3196 [==============================] - 0s 81us/step - loss: 0.4422\n",
            "Epoch 183/200\n",
            "3196/3196 [==============================] - 0s 80us/step - loss: 0.4422\n",
            "Epoch 184/200\n",
            "3196/3196 [==============================] - 0s 81us/step - loss: 0.4425\n",
            "Epoch 185/200\n",
            "3196/3196 [==============================] - 0s 80us/step - loss: 0.4422\n",
            "Epoch 186/200\n",
            "3196/3196 [==============================] - 0s 80us/step - loss: 0.4421\n",
            "Epoch 187/200\n",
            "3196/3196 [==============================] - 0s 82us/step - loss: 0.4421\n",
            "Epoch 188/200\n",
            "3196/3196 [==============================] - 0s 71us/step - loss: 0.4423\n",
            "Epoch 189/200\n",
            "3196/3196 [==============================] - 0s 73us/step - loss: 0.4422\n",
            "Epoch 190/200\n",
            "3196/3196 [==============================] - 0s 81us/step - loss: 0.4421\n",
            "Epoch 191/200\n",
            "3196/3196 [==============================] - 0s 84us/step - loss: 0.4422\n",
            "Epoch 192/200\n",
            "3196/3196 [==============================] - 0s 67us/step - loss: 0.4422\n",
            "Epoch 193/200\n",
            "3196/3196 [==============================] - 0s 62us/step - loss: 0.4424\n",
            "Epoch 194/200\n",
            "3196/3196 [==============================] - 0s 81us/step - loss: 0.4420\n",
            "Epoch 195/200\n",
            "3196/3196 [==============================] - 0s 85us/step - loss: 0.4422\n",
            "Epoch 196/200\n",
            "3196/3196 [==============================] - 0s 71us/step - loss: 0.4423\n",
            "Epoch 197/200\n",
            "3196/3196 [==============================] - 0s 71us/step - loss: 0.4423\n",
            "Epoch 198/200\n",
            "3196/3196 [==============================] - 0s 78us/step - loss: 0.4425\n",
            "Epoch 199/200\n",
            "3196/3196 [==============================] - 0s 87us/step - loss: 0.4423\n",
            "Epoch 200/200\n",
            "3196/3196 [==============================] - 0s 79us/step - loss: 0.4423\n"
          ],
          "name": "stdout"
        }
      ]
    },
    {
      "cell_type": "code",
      "metadata": {
        "id": "HXff6YJ_thnX",
        "colab_type": "code",
        "colab": {}
      },
      "source": [
        ""
      ],
      "execution_count": 0,
      "outputs": []
    },
    {
      "cell_type": "code",
      "metadata": {
        "id": "qa-qqDpOh3mX",
        "colab_type": "code",
        "colab": {
          "base_uri": "https://localhost:8080/",
          "height": 162
        },
        "outputId": "b0db597e-4512-431e-80fe-8038f1bbe103"
      },
      "source": [
        "plt.plot(hist.history['loss'])"
      ],
      "execution_count": 314,
      "outputs": [
        {
          "output_type": "error",
          "ename": "AttributeError",
          "evalue": "ignored",
          "traceback": [
            "\u001b[0;31m---------------------------------------------------------------------------\u001b[0m",
            "\u001b[0;31mAttributeError\u001b[0m                            Traceback (most recent call last)",
            "\u001b[0;32m<ipython-input-314-b2f5e584f206>\u001b[0m in \u001b[0;36m<module>\u001b[0;34m()\u001b[0m\n\u001b[0;32m----> 1\u001b[0;31m \u001b[0mplt\u001b[0m\u001b[0;34m.\u001b[0m\u001b[0mplot\u001b[0m\u001b[0;34m(\u001b[0m\u001b[0mhist\u001b[0m\u001b[0;34m.\u001b[0m\u001b[0mhistory\u001b[0m\u001b[0;34m[\u001b[0m\u001b[0;34m'loss'\u001b[0m\u001b[0;34m]\u001b[0m\u001b[0;34m)\u001b[0m\u001b[0;34m\u001b[0m\u001b[0;34m\u001b[0m\u001b[0m\n\u001b[0m",
            "\u001b[0;31mAttributeError\u001b[0m: 'tuple' object has no attribute 'history'"
          ]
        }
      ]
    },
    {
      "cell_type": "code",
      "metadata": {
        "id": "OmsckKHSDDO1",
        "colab_type": "code",
        "outputId": "610cd1ff-ff32-4f68-d766-8dd03674fea9",
        "colab": {
          "base_uri": "https://localhost:8080/",
          "height": 286
        }
      },
      "source": [
        "mean, scores = agent_perf(agent,n=1500)\n",
        "plt.plot(sorted(scores))\n",
        "plt.ylim(-3,1)\n",
        "plt.show()\n",
        "mean"
      ],
      "execution_count": 337,
      "outputs": [
        {
          "output_type": "display_data",
          "data": {
            "image/png": "[encoded data removed]",
            "text/plain": [
              "<Figure size 432x288 with 1 Axes>"
            ]
          },
          "metadata": {
            "tags": []
          }
        },
        {
          "output_type": "execute_result",
          "data": {
            "text/plain": [
              "0.986"
            ]
          },
          "metadata": {
            "tags": []
          },
          "execution_count": 337
        }
      ]
    },
    {
      "cell_type": "code",
      "metadata": {
        "id": "YhNMolPcnSYU",
        "colab_type": "code",
        "colab": {
          "base_uri": "https://localhost:8080/",
          "height": 34
        },
        "outputId": "9979a645-fee7-4ee4-b457-07729666075b"
      },
      "source": [
        "(np.array(scores) == -2).sum()"
      ],
      "execution_count": 262,
      "outputs": [
        {
          "output_type": "execute_result",
          "data": {
            "text/plain": [
              "5"
            ]
          },
          "metadata": {
            "tags": []
          },
          "execution_count": 262
        }
      ]
    },
    {
      "cell_type": "markdown",
      "metadata": {
        "id": "cwubgEAk70o6",
        "colab_type": "text"
      },
      "source": [
        "# Lets play"
      ]
    },
    {
      "cell_type": "code",
      "metadata": {
        "id": "cmN8dSHCtK7A",
        "colab_type": "code",
        "outputId": "d39c90d8-b358-41a8-bf78-c023af43976a",
        "colab": {
          "base_uri": "https://localhost:8080/",
          "height": 1000
        }
      },
      "source": [
        "game = XandOs()\n",
        "\n",
        "while not game.end:\n",
        "  move, pred = agent.decide_move(game.state)\n",
        "  reward = game.make_move(move)\n",
        "  game.render()\n",
        "  print(reward)\n",
        "  print(pred)\n",
        "\n",
        "  if not game.end:\n",
        "    player_move = int(input())\n",
        "    player_reward = game.make_move(player_move, player=2)\n",
        "  print(player_move, player_reward)\n",
        "\n"
      ],
      "execution_count": 253,
      "outputs": [
        {
          "output_type": "display_data",
          "data": {
            "image/png": "[encoded data removed]",
            "text/plain": [
              "<Figure size 432x288 with 2 Axes>"
            ]
          },
          "metadata": {
            "tags": []
          }
        },
        {
          "output_type": "display_data",
          "data": {
            "image/png": "[encoded data removed]",
            "text/plain": [
              "<Figure size 432x288 with 2 Axes>"
            ]
          },
          "metadata": {
            "tags": []
          }
        },
        {
          "output_type": "stream",
          "text": [
            "True\n",
            "[0.994166   0.57555175 0.5525411  0.5669987  0.6320244  0.54562414\n",
            " 0.60057503 0.5607023  0.5793917 ]\n",
            "8\n",
            "8 True\n"
          ],
          "name": "stdout"
        },
        {
          "output_type": "display_data",
          "data": {
            "image/png": "[encoded data removed]",
            "text/plain": [
              "<Figure size 432x288 with 2 Axes>"
            ]
          },
          "metadata": {
            "tags": []
          }
        },
        {
          "output_type": "display_data",
          "data": {
            "image/png": "[encoded data removed]",
            "text/plain": [
              "<Figure size 432x288 with 2 Axes>"
            ]
          },
          "metadata": {
            "tags": []
          }
        },
        {
          "output_type": "stream",
          "text": [
            "True\n",
            "[0.         0.99930465 0.7000577  0.57818836 0.599977   0.561166\n",
            " 0.6464829  0.5904765  0.        ]\n",
            "2\n",
            "2 True\n"
          ],
          "name": "stdout"
        },
        {
          "output_type": "display_data",
          "data": {
            "image/png": "[encoded data removed]",
            "text/plain": [
              "<Figure size 432x288 with 2 Axes>"
            ]
          },
          "metadata": {
            "tags": []
          }
        },
        {
          "output_type": "display_data",
          "data": {
            "image/png": "[encoded data removed]",
            "text/plain": [
              "<Figure size 432x288 with 2 Axes>"
            ]
          },
          "metadata": {
            "tags": []
          }
        },
        {
          "output_type": "stream",
          "text": [
            "True\n",
            "[0.0000000e+00 0.0000000e+00 0.0000000e+00 2.7421713e-03 1.0219437e-01\n",
            " 8.6247903e-01 5.7068467e-04 3.6928952e-03 0.0000000e+00]\n",
            "6\n",
            "6 True\n"
          ],
          "name": "stdout"
        },
        {
          "output_type": "display_data",
          "data": {
            "image/png": "[encoded data removed]",
            "text/plain": [
              "<Figure size 432x288 with 2 Axes>"
            ]
          },
          "metadata": {
            "tags": []
          }
        },
        {
          "output_type": "display_data",
          "data": {
            "image/png": "[encoded data removed]",
            "text/plain": [
              "<Figure size 432x288 with 2 Axes>"
            ]
          },
          "metadata": {
            "tags": []
          }
        },
        {
          "output_type": "stream",
          "text": [
            "True\n",
            "[0.0000000e+00 0.0000000e+00 0.0000000e+00 1.9967556e-06 2.3402691e-02\n",
            " 0.0000000e+00 0.0000000e+00 3.4788281e-02 0.0000000e+00]\n",
            "4\n",
            "4 True\n"
          ],
          "name": "stdout"
        },
        {
          "output_type": "display_data",
          "data": {
            "image/png": "[encoded data removed]",
            "text/plain": [
              "<Figure size 432x288 with 2 Axes>"
            ]
          },
          "metadata": {
            "tags": []
          }
        },
        {
          "output_type": "display_data",
          "data": {
            "image/png": "[encoded data removed]",
            "text/plain": [
              "<Figure size 432x288 with 2 Axes>"
            ]
          },
          "metadata": {
            "tags": []
          }
        },
        {
          "output_type": "stream",
          "text": [
            "True\n",
            "[0.         0.         0.         0.00598842 0.         0.\n",
            " 0.         0.         0.        ]\n"
          ],
          "name": "stdout"
        },
        {
          "output_type": "error",
          "ename": "KeyboardInterrupt",
          "evalue": "ignored",
          "traceback": [
            "\u001b[0;31m---------------------------------------------------------------------------\u001b[0m",
            "\u001b[0;31mKeyboardInterrupt\u001b[0m                         Traceback (most recent call last)",
            "\u001b[0;32m/usr/local/lib/python3.6/dist-packages/ipykernel/kernelbase.py\u001b[0m in \u001b[0;36m_input_request\u001b[0;34m(self, prompt, ident, parent, password)\u001b[0m\n\u001b[1;32m    729\u001b[0m             \u001b[0;32mtry\u001b[0m\u001b[0;34m:\u001b[0m\u001b[0;34m\u001b[0m\u001b[0;34m\u001b[0m\u001b[0m\n\u001b[0;32m--> 730\u001b[0;31m                 \u001b[0mident\u001b[0m\u001b[0;34m,\u001b[0m \u001b[0mreply\u001b[0m \u001b[0;34m=\u001b[0m \u001b[0mself\u001b[0m\u001b[0;34m.\u001b[0m\u001b[0msession\u001b[0m\u001b[0;34m.\u001b[0m\u001b[0mrecv\u001b[0m\u001b[0;34m(\u001b[0m\u001b[0mself\u001b[0m\u001b[0;34m.\u001b[0m\u001b[0mstdin_socket\u001b[0m\u001b[0;34m,\u001b[0m \u001b[0;36m0\u001b[0m\u001b[0;34m)\u001b[0m\u001b[0;34m\u001b[0m\u001b[0;34m\u001b[0m\u001b[0m\n\u001b[0m\u001b[1;32m    731\u001b[0m             \u001b[0;32mexcept\u001b[0m \u001b[0mException\u001b[0m\u001b[0;34m:\u001b[0m\u001b[0;34m\u001b[0m\u001b[0;34m\u001b[0m\u001b[0m\n",
            "\u001b[0;32m/usr/local/lib/python3.6/dist-packages/jupyter_client/session.py\u001b[0m in \u001b[0;36mrecv\u001b[0;34m(self, socket, mode, content, copy)\u001b[0m\n\u001b[1;32m    802\u001b[0m         \u001b[0;32mtry\u001b[0m\u001b[0;34m:\u001b[0m\u001b[0;34m\u001b[0m\u001b[0;34m\u001b[0m\u001b[0m\n\u001b[0;32m--> 803\u001b[0;31m             \u001b[0mmsg_list\u001b[0m \u001b[0;34m=\u001b[0m \u001b[0msocket\u001b[0m\u001b[0;34m.\u001b[0m\u001b[0mrecv_multipart\u001b[0m\u001b[0;34m(\u001b[0m\u001b[0mmode\u001b[0m\u001b[0;34m,\u001b[0m \u001b[0mcopy\u001b[0m\u001b[0;34m=\u001b[0m\u001b[0mcopy\u001b[0m\u001b[0;34m)\u001b[0m\u001b[0;34m\u001b[0m\u001b[0;34m\u001b[0m\u001b[0m\n\u001b[0m\u001b[1;32m    804\u001b[0m         \u001b[0;32mexcept\u001b[0m \u001b[0mzmq\u001b[0m\u001b[0;34m.\u001b[0m\u001b[0mZMQError\u001b[0m \u001b[0;32mas\u001b[0m \u001b[0me\u001b[0m\u001b[0;34m:\u001b[0m\u001b[0;34m\u001b[0m\u001b[0;34m\u001b[0m\u001b[0m\n",
            "\u001b[0;32m/usr/local/lib/python3.6/dist-packages/zmq/sugar/socket.py\u001b[0m in \u001b[0;36mrecv_multipart\u001b[0;34m(self, flags, copy, track)\u001b[0m\n\u001b[1;32m    465\u001b[0m         \"\"\"\n\u001b[0;32m--> 466\u001b[0;31m         \u001b[0mparts\u001b[0m \u001b[0;34m=\u001b[0m \u001b[0;34m[\u001b[0m\u001b[0mself\u001b[0m\u001b[0;34m.\u001b[0m\u001b[0mrecv\u001b[0m\u001b[0;34m(\u001b[0m\u001b[0mflags\u001b[0m\u001b[0;34m,\u001b[0m \u001b[0mcopy\u001b[0m\u001b[0;34m=\u001b[0m\u001b[0mcopy\u001b[0m\u001b[0;34m,\u001b[0m \u001b[0mtrack\u001b[0m\u001b[0;34m=\u001b[0m\u001b[0mtrack\u001b[0m\u001b[0;34m)\u001b[0m\u001b[0;34m]\u001b[0m\u001b[0;34m\u001b[0m\u001b[0;34m\u001b[0m\u001b[0m\n\u001b[0m\u001b[1;32m    467\u001b[0m         \u001b[0;31m# have first part already, only loop while more to receive\u001b[0m\u001b[0;34m\u001b[0m\u001b[0;34m\u001b[0m\u001b[0;34m\u001b[0m\u001b[0m\n",
            "\u001b[0;32mzmq/backend/cython/socket.pyx\u001b[0m in \u001b[0;36mzmq.backend.cython.socket.Socket.recv\u001b[0;34m()\u001b[0m\n",
            "\u001b[0;32mzmq/backend/cython/socket.pyx\u001b[0m in \u001b[0;36mzmq.backend.cython.socket.Socket.recv\u001b[0;34m()\u001b[0m\n",
            "\u001b[0;32mzmq/backend/cython/socket.pyx\u001b[0m in \u001b[0;36mzmq.backend.cython.socket._recv_copy\u001b[0;34m()\u001b[0m\n",
            "\u001b[0;32m/usr/local/lib/python3.6/dist-packages/zmq/backend/cython/checkrc.pxd\u001b[0m in \u001b[0;36mzmq.backend.cython.checkrc._check_rc\u001b[0;34m()\u001b[0m\n",
            "\u001b[0;31mKeyboardInterrupt\u001b[0m: ",
            "\nDuring handling of the above exception, another exception occurred:\n",
            "\u001b[0;31mKeyboardInterrupt\u001b[0m                         Traceback (most recent call last)",
            "\u001b[0;32m<ipython-input-253-ab04557096cc>\u001b[0m in \u001b[0;36m<module>\u001b[0;34m()\u001b[0m\n\u001b[1;32m      9\u001b[0m \u001b[0;34m\u001b[0m\u001b[0m\n\u001b[1;32m     10\u001b[0m   \u001b[0;32mif\u001b[0m \u001b[0;32mnot\u001b[0m \u001b[0mgame\u001b[0m\u001b[0;34m.\u001b[0m\u001b[0mend\u001b[0m\u001b[0;34m:\u001b[0m\u001b[0;34m\u001b[0m\u001b[0;34m\u001b[0m\u001b[0m\n\u001b[0;32m---> 11\u001b[0;31m     \u001b[0mplayer_move\u001b[0m \u001b[0;34m=\u001b[0m \u001b[0mint\u001b[0m\u001b[0;34m(\u001b[0m\u001b[0minput\u001b[0m\u001b[0;34m(\u001b[0m\u001b[0;34m)\u001b[0m\u001b[0;34m)\u001b[0m\u001b[0;34m\u001b[0m\u001b[0;34m\u001b[0m\u001b[0m\n\u001b[0m\u001b[1;32m     12\u001b[0m     \u001b[0mplayer_reward\u001b[0m \u001b[0;34m=\u001b[0m \u001b[0mgame\u001b[0m\u001b[0;34m.\u001b[0m\u001b[0mmake_move\u001b[0m\u001b[0;34m(\u001b[0m\u001b[0mplayer_move\u001b[0m\u001b[0;34m,\u001b[0m \u001b[0mplayer\u001b[0m\u001b[0;34m=\u001b[0m\u001b[0;36m2\u001b[0m\u001b[0;34m)\u001b[0m\u001b[0;34m\u001b[0m\u001b[0;34m\u001b[0m\u001b[0m\n\u001b[1;32m     13\u001b[0m   \u001b[0mprint\u001b[0m\u001b[0;34m(\u001b[0m\u001b[0mplayer_move\u001b[0m\u001b[0;34m,\u001b[0m \u001b[0mplayer_reward\u001b[0m\u001b[0;34m)\u001b[0m\u001b[0;34m\u001b[0m\u001b[0;34m\u001b[0m\u001b[0m\n",
            "\u001b[0;32m/usr/local/lib/python3.6/dist-packages/ipykernel/kernelbase.py\u001b[0m in \u001b[0;36mraw_input\u001b[0;34m(self, prompt)\u001b[0m\n\u001b[1;32m    703\u001b[0m             \u001b[0mself\u001b[0m\u001b[0;34m.\u001b[0m\u001b[0m_parent_ident\u001b[0m\u001b[0;34m,\u001b[0m\u001b[0;34m\u001b[0m\u001b[0;34m\u001b[0m\u001b[0m\n\u001b[1;32m    704\u001b[0m             \u001b[0mself\u001b[0m\u001b[0;34m.\u001b[0m\u001b[0m_parent_header\u001b[0m\u001b[0;34m,\u001b[0m\u001b[0;34m\u001b[0m\u001b[0;34m\u001b[0m\u001b[0m\n\u001b[0;32m--> 705\u001b[0;31m             \u001b[0mpassword\u001b[0m\u001b[0;34m=\u001b[0m\u001b[0;32mFalse\u001b[0m\u001b[0;34m,\u001b[0m\u001b[0;34m\u001b[0m\u001b[0;34m\u001b[0m\u001b[0m\n\u001b[0m\u001b[1;32m    706\u001b[0m         )\n\u001b[1;32m    707\u001b[0m \u001b[0;34m\u001b[0m\u001b[0m\n",
            "\u001b[0;32m/usr/local/lib/python3.6/dist-packages/ipykernel/kernelbase.py\u001b[0m in \u001b[0;36m_input_request\u001b[0;34m(self, prompt, ident, parent, password)\u001b[0m\n\u001b[1;32m    733\u001b[0m             \u001b[0;32mexcept\u001b[0m \u001b[0mKeyboardInterrupt\u001b[0m\u001b[0;34m:\u001b[0m\u001b[0;34m\u001b[0m\u001b[0;34m\u001b[0m\u001b[0m\n\u001b[1;32m    734\u001b[0m                 \u001b[0;31m# re-raise KeyboardInterrupt, to truncate traceback\u001b[0m\u001b[0;34m\u001b[0m\u001b[0;34m\u001b[0m\u001b[0;34m\u001b[0m\u001b[0m\n\u001b[0;32m--> 735\u001b[0;31m                 \u001b[0;32mraise\u001b[0m \u001b[0mKeyboardInterrupt\u001b[0m\u001b[0;34m\u001b[0m\u001b[0;34m\u001b[0m\u001b[0m\n\u001b[0m\u001b[1;32m    736\u001b[0m             \u001b[0;32melse\u001b[0m\u001b[0;34m:\u001b[0m\u001b[0;34m\u001b[0m\u001b[0;34m\u001b[0m\u001b[0m\n\u001b[1;32m    737\u001b[0m                 \u001b[0;32mbreak\u001b[0m\u001b[0;34m\u001b[0m\u001b[0;34m\u001b[0m\u001b[0m\n",
            "\u001b[0;31mKeyboardInterrupt\u001b[0m: "
          ]
        }
      ]
    },
    {
      "cell_type": "code",
      "metadata": {
        "id": "rH7Uum0Gevf4",
        "colab_type": "code",
        "colab": {}
      },
      "source": [
        "agent.model.save('winer.keras')"
      ],
      "execution_count": 0,
      "outputs": []
    },
    {
      "cell_type": "code",
      "metadata": {
        "id": "mpJwa-ZQfG5x",
        "colab_type": "code",
        "colab": {}
      },
      "source": [
        "agent.model.save_weights('winer_weights.keras')"
      ],
      "execution_count": 0,
      "outputs": []
    },
    {
      "cell_type": "code",
      "metadata": {
        "id": "EVC2uny8wo4Q",
        "colab_type": "code",
        "colab": {}
      },
      "source": [
        ""
      ],
      "execution_count": 0,
      "outputs": []
    }
  ]
}